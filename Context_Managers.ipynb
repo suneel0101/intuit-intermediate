{
 "cells": [
  {
   "cell_type": "markdown",
   "metadata": {},
   "source": [
    "# Module: Context Managers\n",
    "Est. time: 20-30 min\n",
    "\n",
    "1. What is a context manager?\n",
    "2. Class-based approach\n",
    "3. Generator-based approach\n",
    "4. Lab"
   ]
  },
  {
   "cell_type": "markdown",
   "metadata": {},
   "source": [
    "## What is a context manager?"
   ]
  },
  {
   "cell_type": "code",
   "execution_count": 33,
   "metadata": {},
   "outputs": [],
   "source": [
    "with open(\"Data/test.txt\") as f:    \n",
    "    data = f.read() "
   ]
  },
  {
   "cell_type": "code",
   "execution_count": null,
   "metadata": {},
   "outputs": [],
   "source": []
  },
  {
   "cell_type": "code",
   "execution_count": 34,
   "metadata": {},
   "outputs": [
    {
     "name": "stdout",
     "output_type": "stream",
     "text": [
      "here is some test text\n",
      "hi!\n"
     ]
    }
   ],
   "source": [
    "print(data)"
   ]
  },
  {
   "cell_type": "markdown",
   "metadata": {},
   "source": [
    "What is the motivation for `with`?"
   ]
  },
  {
   "cell_type": "code",
   "execution_count": 35,
   "metadata": {},
   "outputs": [
    {
     "name": "stdout",
     "output_type": "stream",
     "text": [
      "[Errno 24] Too many open files: 'test.txt'\n"
     ]
    }
   ],
   "source": [
    "file_descriptors = [] \n",
    "for x in range(1000000): \n",
    "    try:\n",
    "        file_descriptors.append(open('test.txt', 'w')) \n",
    "    except Exception as e:\n",
    "        print(e)\n",
    "        break"
   ]
  },
  {
   "cell_type": "code",
   "execution_count": null,
   "metadata": {},
   "outputs": [],
   "source": []
  },
  {
   "cell_type": "markdown",
   "metadata": {},
   "source": [
    "### What is the anatomy of a context manager?"
   ]
  },
  {
   "cell_type": "code",
   "execution_count": 39,
   "metadata": {},
   "outputs": [],
   "source": [
    "class SampleContextManager(): \n",
    "    def __init__(self): \n",
    "        print('In the init!') \n",
    "          \n",
    "    def __enter__(self): \n",
    "        print('In the enter!') \n",
    "        return self\n",
    "      \n",
    "    def __exit__(self, exc_type, exc_value, exc_traceback): \n",
    "        print('In the exit...') "
   ]
  },
  {
   "cell_type": "code",
   "execution_count": 40,
   "metadata": {},
   "outputs": [
    {
     "name": "stdout",
     "output_type": "stream",
     "text": [
      "In the init!\n",
      "In the enter!\n",
      "inside the with!\n",
      "In the exit...\n"
     ]
    }
   ],
   "source": [
    "with SampleContextManager() as manager:\n",
    "    print(\"inside the with!\")"
   ]
  },
  {
   "cell_type": "markdown",
   "metadata": {},
   "source": [
    "## Class-based approach\n",
    "Let's create a context manager that pretty-prints through indentation.\n",
    "\n",
    "(Source: Dbader.org)"
   ]
  },
  {
   "cell_type": "markdown",
   "metadata": {},
   "source": [
    "### Exercise\n",
    "Fill in the logic below so that we can execute the following:\n",
    "\n",
    "```python\n",
    ">>> with Indentation(4) as indentation:\n",
    ">>>    indentation.print(\"Yo\")\n",
    ">>>    with intendation:\n",
    ">>>        indentation.print(\"Hi)\n",
    ">>>    indentation.print(\"Yay\")\n",
    "    Yo\n",
    "        Hi\n",
    "    Yay\n",
    "```"
   ]
  },
  {
   "cell_type": "code",
   "execution_count": 8,
   "metadata": {},
   "outputs": [],
   "source": [
    "class Indentation():\n",
    "    def __init__(self, spaces=2):\n",
    "        self.indentation_level = 0\n",
    "        self.spaces = spaces\n",
    "    \n",
    "    def __enter__(self):\n",
    "        self.indentation_level += 1\n",
    "        return self\n",
    "    \n",
    "    def __exit__(self, *args, **kwargs):\n",
    "        self.indentation_level -= 1\n",
    "        return self\n",
    "    \n",
    "    def print(self, message):\n",
    "        indented_space = ' ' * self.spaces * self.indentation_level\n",
    "        print(\"{}{}\".format(indented_space, message))"
   ]
  },
  {
   "cell_type": "code",
   "execution_count": 9,
   "metadata": {},
   "outputs": [
    {
     "data": {
      "text/plain": [
       "'        '"
      ]
     },
     "execution_count": 9,
     "metadata": {},
     "output_type": "execute_result"
    }
   ],
   "source": [
    "' ' * 4 * 2"
   ]
  },
  {
   "cell_type": "code",
   "execution_count": 16,
   "metadata": {
    "scrolled": true
   },
   "outputs": [
    {
     "name": "stdout",
     "output_type": "stream",
     "text": [
      "    Yo\n",
      "        HEY!!!\n",
      "    HA! We are out.\n"
     ]
    }
   ],
   "source": [
    "with Indentation(4) as indentation:\n",
    "    indentation.print(\"Yo\")\n",
    "    with indentation:\n",
    "        indentation.print(\"HEY!!!\")\n",
    "    indentation.print(\"HA! We are out.\")"
   ]
  },
  {
   "cell_type": "markdown",
   "metadata": {},
   "source": [
    "## Generator-based approach\n",
    "\n",
    "```python\n",
    "class SampleContextManager(): \n",
    "    def __init__(self): \n",
    "        print('In the init!') \n",
    "          \n",
    "    def __enter__(self): \n",
    "        print('In the enter!') \n",
    "        return self\n",
    "      \n",
    "    def __exit__(self, exc_type, exc_value, exc_traceback): \n",
    "        print('In the exit...') \n",
    "```"
   ]
  },
  {
   "cell_type": "markdown",
   "metadata": {},
   "source": [
    "Note the `@` symbol is notation for decorators."
   ]
  },
  {
   "cell_type": "code",
   "execution_count": 17,
   "metadata": {},
   "outputs": [],
   "source": [
    "from contextlib import contextmanager\n",
    "\n",
    "@contextmanager\n",
    "def sample_context(name):\n",
    "    print(\"Pre-context (the enter)\")\n",
    "    yield name\n",
    "    print(\"Post-context (the exit)\")"
   ]
  },
  {
   "cell_type": "code",
   "execution_count": 19,
   "metadata": {},
   "outputs": [
    {
     "name": "stdout",
     "output_type": "stream",
     "text": [
      "Pre-context (the enter)\n",
      "hi\n",
      "Albert\n",
      "Post-context (the exit)\n"
     ]
    }
   ],
   "source": [
    "with sample_context(\"Albert\") as c:\n",
    "    print(\"hi\")\n",
    "    print(c)"
   ]
  },
  {
   "cell_type": "markdown",
   "metadata": {},
   "source": [
    "## Lab: Time-tracking\n",
    "Create a context manager that takes a name of a process and times the execution of whatever happens in the context block and saves that to a `log.txt` file.\n",
    "\n",
    "For example,\n",
    "\n",
    "```python\n",
    ">>> with Timer('do math') as timer:\n",
    "        print([i for i in range(1000) if i % 2 == 1])\n",
    "        \n",
    "do math took 1.23544 seconds\n",
    "```\n",
    "\n",
    "And if you open `log.txt` it would just have one line\n",
    "\n",
    "```\n",
    "do math: 1.23544 seconds\n",
    "```\n",
    "\n",
    "### Bonus\n",
    "Re-write your function using `contextlib` and the generator approach."
   ]
  },
  {
   "cell_type": "code",
   "execution_count": null,
   "metadata": {},
   "outputs": [],
   "source": []
  }
 ],
 "metadata": {
  "kernelspec": {
   "display_name": "Python 3",
   "language": "python",
   "name": "python3"
  },
  "language_info": {
   "codemirror_mode": {
    "name": "ipython",
    "version": 3
   },
   "file_extension": ".py",
   "mimetype": "text/x-python",
   "name": "python",
   "nbconvert_exporter": "python",
   "pygments_lexer": "ipython3",
   "version": "3.8.5"
  }
 },
 "nbformat": 4,
 "nbformat_minor": 4
}
