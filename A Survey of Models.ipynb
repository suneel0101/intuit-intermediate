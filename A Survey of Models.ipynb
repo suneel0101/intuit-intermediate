{
 "cells": [
  {
   "cell_type": "markdown",
   "metadata": {},
   "source": [
    "## Overview of models\n",
    "Objective is to familiarize ourselves with the inner-workings of some models:\n",
    "\n",
    "-  Naive Bayes\n",
    "- Trees, Random Forest (Ensemble methods)\n",
    "\n",
    "Est. duration: 45 min"
   ]
  },
  {
   "cell_type": "markdown",
   "metadata": {},
   "source": [
    "## Naive Bayes\n",
    "\n",
    "https://en.wikipedia.org/wiki/Bayes%27_theorem\n",
    "\n",
    "\n",
    "\n",
    "1. Probability definitions and intuition\n",
    "2. Concept of conditional probability (Bayes Theorem)\n",
    "\n",
    "```\n",
    " negative “is so sad for my APL friend………….”\n",
    " positive “oh thank you!”\n",
    " negative “Very sad about Iran.”\n",
    " positive “Thanks K! Here's hoping! Pretty nervous though…\" \n",
    "```\n",
    "\n",
    "- [Worksheet 1](https://s3-us-west-2.amazonaws.com/ga-dat-2015-suneel/worksheets/Worksheet_1_conditional_probability_univariate.pdf)\n",
    "- [Worksheet 2](https://s3-us-west-2.amazonaws.com/ga-dat-2015-suneel/worksheets/Worksheet_2_conditional_probability_multivariate.pdf)"
   ]
  },
  {
   "cell_type": "code",
   "execution_count": null,
   "metadata": {},
   "outputs": [],
   "source": []
  },
  {
   "cell_type": "markdown",
   "metadata": {},
   "source": [
    "## Trees\n",
    "- [Worksheet 1](https://s3-us-west-2.amazonaws.com/ga-dat-2015-suneel/worksheets/Decision+Trees/DT_wksht_1.pdf)\n",
    "- [Worksheet 2](https://s3-us-west-2.amazonaws.com/ga-dat-2015-suneel/worksheets/Decision+Trees/DT_wksht_2.pdf)\n",
    "- [Worksheet 3](https://s3-us-west-2.amazonaws.com/ga-dat-2015-suneel/worksheets/Decision+Trees/DT_wksht_3.pdf)\n",
    "\n",
    "### Discussion\n",
    "- Issues with trees\n",
    "- Ensemble methods"
   ]
  },
  {
   "cell_type": "code",
   "execution_count": null,
   "metadata": {},
   "outputs": [],
   "source": []
  }
 ],
 "metadata": {
  "kernelspec": {
   "display_name": "Python 3",
   "language": "python",
   "name": "python3"
  },
  "language_info": {
   "codemirror_mode": {
    "name": "ipython",
    "version": 3
   },
   "file_extension": ".py",
   "mimetype": "text/x-python",
   "name": "python",
   "nbconvert_exporter": "python",
   "pygments_lexer": "ipython3",
   "version": "3.8.5"
  }
 },
 "nbformat": 4,
 "nbformat_minor": 4
}
