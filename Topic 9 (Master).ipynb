{
 "cells": [
  {
   "cell_type": "markdown",
   "metadata": {},
   "source": [
    "# Topic 9: Databases, SQLAlchemy, MongoDB\n",
    "## Objective\n",
    "Build a lunch recommendation service and delivery ordering service."
   ]
  },
  {
   "cell_type": "markdown",
   "metadata": {},
   "source": [
    "## Set Up\n",
    "Sign up for [Zomato API](https://developers.zomato.com/api)"
   ]
  },
  {
   "cell_type": "markdown",
   "metadata": {},
   "source": [
    "Install `sqlalchemy`"
   ]
  },
  {
   "cell_type": "code",
   "execution_count": null,
   "metadata": {},
   "outputs": [],
   "source": [
    "!conda install sqlalchemy!"
   ]
  },
  {
   "cell_type": "markdown",
   "metadata": {},
   "source": [
    "Install mongodb\n",
    "\n",
    "### Windows\n",
    "- https://docs.mongodb.com/manual/installation/\n",
    "\n",
    "\n",
    "### OS X / linux\n",
    "Using [Homebrew ](https://brew.sh/)\n",
    "\n",
    "- `brew tap mongodb/brew`\n",
    "- `brew install mongodb-community`\n",
    "- `brew services start mongodb/brew/mongodb-community`\n",
    "\n",
    "### Pymongo\n",
    "`!conda install pymongo`"
   ]
  },
  {
   "cell_type": "code",
   "execution_count": 163,
   "metadata": {},
   "outputs": [],
   "source": [
    "!conda install pymongo -y"
   ]
  },
  {
   "cell_type": "code",
   "execution_count": 156,
   "metadata": {},
   "outputs": [],
   "source": [
    "from pymongo import MongoClient"
   ]
  },
  {
   "cell_type": "code",
   "execution_count": 159,
   "metadata": {},
   "outputs": [],
   "source": [
    "client = MongoClient()"
   ]
  },
  {
   "cell_type": "markdown",
   "metadata": {},
   "source": [
    "## Explore the Zomato documentation"
   ]
  },
  {
   "cell_type": "code",
   "execution_count": null,
   "metadata": {},
   "outputs": [],
   "source": []
  },
  {
   "cell_type": "markdown",
   "metadata": {},
   "source": [
    "### Warm Up 1\n",
    "Use the `cities` endpoint to find a city by name. Write a method that does this."
   ]
  },
  {
   "cell_type": "code",
   "execution_count": 74,
   "metadata": {},
   "outputs": [],
   "source": [
    "import requests\n",
    "\n",
    "def get_city_by_name(city_name):\n",
    "    url = \"https://developers.zomato.com/api/v2.1/cities?q={}\"\n",
    "    headers = {\"user-key\": \"7c0538fabc5a6108a754882d2b12b2a9\"}\n",
    "    res = requests.get(url.format(city_name), headers=headers)\n",
    "    return res.json()['location_suggestions'][0]\n"
   ]
  },
  {
   "cell_type": "code",
   "execution_count": 75,
   "metadata": {},
   "outputs": [
    {
     "data": {
      "text/plain": [
       "{'id': 280,\n",
       " 'name': 'New York City, NY',\n",
       " 'country_id': 216,\n",
       " 'country_name': 'United States',\n",
       " 'country_flag_url': 'https://b.zmtcdn.com/images/countries/flags/country_216.png',\n",
       " 'should_experiment_with': 0,\n",
       " 'has_go_out_tab': 0,\n",
       " 'discovery_enabled': 1,\n",
       " 'has_new_ad_format': 0,\n",
       " 'is_state': 0,\n",
       " 'state_id': 103,\n",
       " 'state_name': 'New York State',\n",
       " 'state_code': 'NY'}"
      ]
     },
     "execution_count": 75,
     "metadata": {},
     "output_type": "execute_result"
    }
   ],
   "source": [
    "get_city_by_name(\"New York\")"
   ]
  },
  {
   "cell_type": "markdown",
   "metadata": {},
   "source": [
    "## Create our database"
   ]
  },
  {
   "cell_type": "code",
   "execution_count": 77,
   "metadata": {},
   "outputs": [
    {
     "data": {
      "text/plain": [
       "'1.3.20'"
      ]
     },
     "execution_count": 77,
     "metadata": {},
     "output_type": "execute_result"
    }
   ],
   "source": [
    "import sqlalchemy\n",
    "sqlalchemy.__version__"
   ]
  },
  {
   "cell_type": "code",
   "execution_count": 79,
   "metadata": {},
   "outputs": [],
   "source": [
    "from sqlalchemy import create_engine"
   ]
  },
  {
   "cell_type": "code",
   "execution_count": 80,
   "metadata": {},
   "outputs": [],
   "source": [
    "engine = create_engine('sqlite:///zomato.db', echo = True)"
   ]
  },
  {
   "cell_type": "markdown",
   "metadata": {},
   "source": [
    "Check if it exists."
   ]
  },
  {
   "cell_type": "code",
   "execution_count": null,
   "metadata": {},
   "outputs": [],
   "source": []
  },
  {
   "cell_type": "code",
   "execution_count": 81,
   "metadata": {},
   "outputs": [
    {
     "name": "stdout",
     "output_type": "stream",
     "text": [
      "2021-01-22 14:27:11,028 INFO sqlalchemy.engine.base.Engine SELECT CAST('test plain returns' AS VARCHAR(60)) AS anon_1\n",
      "2021-01-22 14:27:11,029 INFO sqlalchemy.engine.base.Engine ()\n",
      "2021-01-22 14:27:11,032 INFO sqlalchemy.engine.base.Engine SELECT CAST('test unicode returns' AS VARCHAR(60)) AS anon_1\n",
      "2021-01-22 14:27:11,032 INFO sqlalchemy.engine.base.Engine ()\n"
     ]
    }
   ],
   "source": [
    "conn = engine.connect()"
   ]
  },
  {
   "cell_type": "code",
   "execution_count": 83,
   "metadata": {},
   "outputs": [],
   "source": [
    "conn.close()"
   ]
  },
  {
   "cell_type": "code",
   "execution_count": 84,
   "metadata": {},
   "outputs": [],
   "source": [
    "# import os"
   ]
  },
  {
   "cell_type": "code",
   "execution_count": 87,
   "metadata": {},
   "outputs": [],
   "source": [
    "# os.listdir()"
   ]
  },
  {
   "cell_type": "markdown",
   "metadata": {},
   "source": [
    "Introspect `engine`"
   ]
  },
  {
   "cell_type": "code",
   "execution_count": null,
   "metadata": {},
   "outputs": [],
   "source": []
  },
  {
   "cell_type": "markdown",
   "metadata": {},
   "source": [
    "List the table names."
   ]
  },
  {
   "cell_type": "markdown",
   "metadata": {},
   "source": [
    "### Exercise\n",
    "Get all cuisines in a given city."
   ]
  },
  {
   "cell_type": "code",
   "execution_count": 106,
   "metadata": {},
   "outputs": [],
   "source": [
    "def get_cuisines_by_city_id(city_id):\n",
    "    url = \"https://developers.zomato.com/api/v2.1/cuisines?city_id={}\"\n",
    "    headers = {\"user-key\": \"7c0538fabc5a6108a754882d2b12b2a9\"}\n",
    "    res = requests.get(url.format(city_id), headers=headers)\n",
    "    return res.json()['cuisines'][:20]"
   ]
  },
  {
   "cell_type": "code",
   "execution_count": 107,
   "metadata": {},
   "outputs": [
    {
     "data": {
      "text/plain": [
       "[{'cuisine': {'cuisine_id': 1035, 'cuisine_name': 'Afghan'}},\n",
       " {'cuisine': {'cuisine_id': 6, 'cuisine_name': 'Afghani'}},\n",
       " {'cuisine': {'cuisine_id': 152, 'cuisine_name': 'African'}},\n",
       " {'cuisine': {'cuisine_id': 1, 'cuisine_name': 'American'}},\n",
       " {'cuisine': {'cuisine_id': 954, 'cuisine_name': 'Amish'}},\n",
       " {'cuisine': {'cuisine_id': 151, 'cuisine_name': 'Argentine'}},\n",
       " {'cuisine': {'cuisine_id': 175, 'cuisine_name': 'Armenian'}},\n",
       " {'cuisine': {'cuisine_id': 3, 'cuisine_name': 'Asian'}},\n",
       " {'cuisine': {'cuisine_id': 131, 'cuisine_name': 'Australian'}},\n",
       " {'cuisine': {'cuisine_id': 201, 'cuisine_name': 'Austrian'}},\n",
       " {'cuisine': {'cuisine_id': 193, 'cuisine_name': 'BBQ'}},\n",
       " {'cuisine': {'cuisine_id': 955, 'cuisine_name': 'Bagels'}},\n",
       " {'cuisine': {'cuisine_id': 5, 'cuisine_name': 'Bakery'}},\n",
       " {'cuisine': {'cuisine_id': 227, 'cuisine_name': 'Bar Food'}},\n",
       " {'cuisine': {'cuisine_id': 132, 'cuisine_name': 'Belgian'}},\n",
       " {'cuisine': {'cuisine_id': 270, 'cuisine_name': 'Beverages'}},\n",
       " {'cuisine': {'cuisine_id': 159, 'cuisine_name': 'Brazilian'}},\n",
       " {'cuisine': {'cuisine_id': 182, 'cuisine_name': 'Breakfast'}},\n",
       " {'cuisine': {'cuisine_id': 133, 'cuisine_name': 'British'}},\n",
       " {'cuisine': {'cuisine_id': 247, 'cuisine_name': 'Bubble Tea'}}]"
      ]
     },
     "execution_count": 107,
     "metadata": {},
     "output_type": "execute_result"
    }
   ],
   "source": [
    "get_cuisines_by_city_id(280)"
   ]
  },
  {
   "cell_type": "code",
   "execution_count": null,
   "metadata": {},
   "outputs": [],
   "source": []
  },
  {
   "cell_type": "markdown",
   "metadata": {},
   "source": [
    "## Defining a model\n",
    "Let's define the city model."
   ]
  },
  {
   "cell_type": "code",
   "execution_count": 91,
   "metadata": {},
   "outputs": [],
   "source": [
    "from sqlalchemy.ext.declarative import declarative_base\n",
    "from sqlalchemy import Column, Integer, String, ForeignKey, Boolean, DateTime\n",
    "\n",
    "\n",
    "Base = declarative_base()"
   ]
  },
  {
   "cell_type": "code",
   "execution_count": 119,
   "metadata": {},
   "outputs": [],
   "source": [
    "class City(Base):\n",
    "    __tablename__ = 'cities'\n",
    "\n",
    "    city_id = Column(Integer, primary_key=True)\n",
    "    zomato_id = Column(Integer)\n",
    "    name = Column(String(100))\n",
    "    date_created = Column(DateTime, default=datetime.datetime.now)\n",
    "    \n",
    "    def __repr__(self):\n",
    "        return \"{}: {}\".format(self.zomato_id, self.name)"
   ]
  },
  {
   "cell_type": "markdown",
   "metadata": {},
   "source": [
    "Check the tables."
   ]
  },
  {
   "cell_type": "code",
   "execution_count": 96,
   "metadata": {},
   "outputs": [
    {
     "name": "stdout",
     "output_type": "stream",
     "text": [
      "2021-01-22 14:41:11,859 INFO sqlalchemy.engine.base.Engine SELECT name FROM sqlite_master WHERE type='table' ORDER BY name\n",
      "2021-01-22 14:41:11,861 INFO sqlalchemy.engine.base.Engine ()\n"
     ]
    },
    {
     "data": {
      "text/plain": [
       "[]"
      ]
     },
     "execution_count": 96,
     "metadata": {},
     "output_type": "execute_result"
    }
   ],
   "source": [
    "engine.table_names()"
   ]
  },
  {
   "cell_type": "markdown",
   "metadata": {},
   "source": [
    "What s going on?"
   ]
  },
  {
   "cell_type": "code",
   "execution_count": 98,
   "metadata": {},
   "outputs": [
    {
     "name": "stdout",
     "output_type": "stream",
     "text": [
      "2021-01-22 14:46:44,468 INFO sqlalchemy.engine.base.Engine PRAGMA main.table_info(\"cities\")\n",
      "2021-01-22 14:46:44,471 INFO sqlalchemy.engine.base.Engine ()\n",
      "2021-01-22 14:46:44,474 INFO sqlalchemy.engine.base.Engine PRAGMA temp.table_info(\"cities\")\n",
      "2021-01-22 14:46:44,476 INFO sqlalchemy.engine.base.Engine ()\n",
      "2021-01-22 14:46:44,490 INFO sqlalchemy.engine.base.Engine \n",
      "CREATE TABLE cities (\n",
      "\tcity_id INTEGER NOT NULL, \n",
      "\tzomato_id INTEGER, \n",
      "\tname VARCHAR(100), \n",
      "\tdate_created DATETIME, \n",
      "\tPRIMARY KEY (city_id)\n",
      ")\n",
      "\n",
      "\n",
      "2021-01-22 14:46:44,491 INFO sqlalchemy.engine.base.Engine ()\n",
      "2021-01-22 14:46:44,502 INFO sqlalchemy.engine.base.Engine COMMIT\n"
     ]
    }
   ],
   "source": [
    "Base.metadata.create_all(engine)"
   ]
  },
  {
   "cell_type": "code",
   "execution_count": null,
   "metadata": {},
   "outputs": [],
   "source": []
  },
  {
   "cell_type": "markdown",
   "metadata": {},
   "source": [
    "### Exercise\n",
    "Define the cuisine model based on the data available and create it.\n",
    "\n",
    "- zomato_id\n",
    "- city_id\n",
    "- name"
   ]
  },
  {
   "cell_type": "code",
   "execution_count": 121,
   "metadata": {},
   "outputs": [],
   "source": [
    "class Cuisine(Base):\n",
    "    __tablename__ = 'cuisines'\n",
    "\n",
    "    cuisine_id = Column(Integer, primary_key=True)\n",
    "    zomato_id = Column(Integer)\n",
    "    name = Column(String(100))\n",
    "    date_created = Column(DateTime, default=datetime.datetime.now)\n",
    "    \n",
    "    def __repr__(self):\n",
    "        return \"{}: {}\".format(self.zomato_id, self.name)"
   ]
  },
  {
   "cell_type": "code",
   "execution_count": 135,
   "metadata": {},
   "outputs": [
    {
     "name": "stdout",
     "output_type": "stream",
     "text": [
      "2021-01-22 15:17:15,421 INFO sqlalchemy.engine.base.Engine PRAGMA main.table_info(\"cities\")\n",
      "2021-01-22 15:17:15,494 INFO sqlalchemy.engine.base.Engine ()\n",
      "2021-01-22 15:17:15,496 INFO sqlalchemy.engine.base.Engine PRAGMA main.table_info(\"cuisines\")\n",
      "2021-01-22 15:17:15,497 INFO sqlalchemy.engine.base.Engine ()\n",
      "2021-01-22 15:17:15,499 INFO sqlalchemy.engine.base.Engine PRAGMA temp.table_info(\"cuisines\")\n",
      "2021-01-22 15:17:15,500 INFO sqlalchemy.engine.base.Engine ()\n",
      "2021-01-22 15:17:15,503 INFO sqlalchemy.engine.base.Engine \n",
      "CREATE TABLE cuisines (\n",
      "\tcuisine_id INTEGER NOT NULL, \n",
      "\tzomato_id INTEGER, \n",
      "\tname VARCHAR(100), \n",
      "\tdate_created DATETIME, \n",
      "\tPRIMARY KEY (cuisine_id)\n",
      ")\n",
      "\n",
      "\n",
      "2021-01-22 15:17:15,503 INFO sqlalchemy.engine.base.Engine ()\n",
      "2021-01-22 15:17:15,506 INFO sqlalchemy.engine.base.Engine COMMIT\n"
     ]
    }
   ],
   "source": [
    "Base.metadata.create_all(engine)"
   ]
  },
  {
   "cell_type": "markdown",
   "metadata": {},
   "source": [
    "## Creating instances and saving"
   ]
  },
  {
   "cell_type": "code",
   "execution_count": 108,
   "metadata": {},
   "outputs": [],
   "source": [
    "from sqlalchemy.orm import sessionmaker"
   ]
  },
  {
   "cell_type": "code",
   "execution_count": 109,
   "metadata": {},
   "outputs": [],
   "source": [
    "Session = sessionmaker(bind=engine)"
   ]
  },
  {
   "cell_type": "code",
   "execution_count": 112,
   "metadata": {},
   "outputs": [],
   "source": [
    "session = Session()"
   ]
  },
  {
   "cell_type": "code",
   "execution_count": 110,
   "metadata": {},
   "outputs": [],
   "source": [
    "new_city = City(name='Some city', zomato_id=99923)"
   ]
  },
  {
   "cell_type": "code",
   "execution_count": 113,
   "metadata": {},
   "outputs": [],
   "source": [
    "session.add(new_city)"
   ]
  },
  {
   "cell_type": "code",
   "execution_count": 116,
   "metadata": {},
   "outputs": [
    {
     "name": "stdout",
     "output_type": "stream",
     "text": [
      "2021-01-22 14:57:13,818 INFO sqlalchemy.engine.base.Engine SELECT cities.city_id AS cities_city_id, cities.zomato_id AS cities_zomato_id, cities.name AS cities_name, cities.date_created AS cities_date_created \n",
      "FROM cities\n",
      " LIMIT ? OFFSET ?\n",
      "2021-01-22 14:57:13,819 INFO sqlalchemy.engine.base.Engine (1, 0)\n"
     ]
    }
   ],
   "source": [
    "our_city = session.query(City).first()"
   ]
  },
  {
   "cell_type": "code",
   "execution_count": 117,
   "metadata": {},
   "outputs": [
    {
     "data": {
      "text/plain": [
       "<__main__.City at 0x7fb1063761f0>"
      ]
     },
     "execution_count": 117,
     "metadata": {},
     "output_type": "execute_result"
    }
   ],
   "source": [
    "our_city"
   ]
  },
  {
   "cell_type": "code",
   "execution_count": 120,
   "metadata": {},
   "outputs": [
    {
     "data": {
      "text/plain": [
       "'Some city'"
      ]
     },
     "execution_count": 120,
     "metadata": {},
     "output_type": "execute_result"
    }
   ],
   "source": [
    "our_city.name"
   ]
  },
  {
   "cell_type": "code",
   "execution_count": null,
   "metadata": {},
   "outputs": [],
   "source": []
  },
  {
   "cell_type": "markdown",
   "metadata": {},
   "source": [
    "### Exercise\n",
    "Create a script to populate the Cuisine records in the database for Boston, New York and Los Angeles."
   ]
  },
  {
   "cell_type": "code",
   "execution_count": 136,
   "metadata": {},
   "outputs": [],
   "source": [
    "city_names = ['Boston', 'New York', 'Los Angeles']\n",
    "for city in city_names:\n",
    "    city_id = get_city_by_name(city)['id']\n",
    "    cuisines = get_cuisines_by_city_id(city_id)\n",
    "    for cuisine in cuisines:\n",
    "        cuiz = Cuisine(name=cuisine[\"cuisine\"][\"cuisine_name\"], zomato_id=cuisine[\"cuisine\"][\"cuisine_id\"])\n",
    "        session.add(cuiz)"
   ]
  },
  {
   "cell_type": "code",
   "execution_count": 128,
   "metadata": {},
   "outputs": [],
   "source": [
    "session.rollback()"
   ]
  },
  {
   "cell_type": "code",
   "execution_count": 137,
   "metadata": {},
   "outputs": [
    {
     "name": "stdout",
     "output_type": "stream",
     "text": [
      "2021-01-22 15:17:25,849 INFO sqlalchemy.engine.base.Engine INSERT INTO cuisines (zomato_id, name, date_created) VALUES (?, ?, ?)\n",
      "2021-01-22 15:17:25,856 INFO sqlalchemy.engine.base.Engine (1035, 'Afghan', '2021-01-22 15:17:25.849251')\n",
      "2021-01-22 15:17:25,885 INFO sqlalchemy.engine.base.Engine INSERT INTO cuisines (zomato_id, name, date_created) VALUES (?, ?, ?)\n",
      "2021-01-22 15:17:25,889 INFO sqlalchemy.engine.base.Engine (152, 'African', '2021-01-22 15:17:25.885774')\n",
      "2021-01-22 15:17:25,890 INFO sqlalchemy.engine.base.Engine INSERT INTO cuisines (zomato_id, name, date_created) VALUES (?, ?, ?)\n",
      "2021-01-22 15:17:25,891 INFO sqlalchemy.engine.base.Engine (1, 'American', '2021-01-22 15:17:25.890559')\n",
      "2021-01-22 15:17:25,892 INFO sqlalchemy.engine.base.Engine INSERT INTO cuisines (zomato_id, name, date_created) VALUES (?, ?, ?)\n",
      "2021-01-22 15:17:25,896 INFO sqlalchemy.engine.base.Engine (151, 'Argentine', '2021-01-22 15:17:25.892495')\n",
      "2021-01-22 15:17:25,897 INFO sqlalchemy.engine.base.Engine INSERT INTO cuisines (zomato_id, name, date_created) VALUES (?, ?, ?)\n",
      "2021-01-22 15:17:25,898 INFO sqlalchemy.engine.base.Engine (175, 'Armenian', '2021-01-22 15:17:25.897467')\n",
      "2021-01-22 15:17:25,899 INFO sqlalchemy.engine.base.Engine INSERT INTO cuisines (zomato_id, name, date_created) VALUES (?, ?, ?)\n",
      "2021-01-22 15:17:25,900 INFO sqlalchemy.engine.base.Engine (3, 'Asian', '2021-01-22 15:17:25.899414')\n",
      "2021-01-22 15:17:25,901 INFO sqlalchemy.engine.base.Engine INSERT INTO cuisines (zomato_id, name, date_created) VALUES (?, ?, ?)\n",
      "2021-01-22 15:17:25,902 INFO sqlalchemy.engine.base.Engine (131, 'Australian', '2021-01-22 15:17:25.901709')\n",
      "2021-01-22 15:17:25,904 INFO sqlalchemy.engine.base.Engine INSERT INTO cuisines (zomato_id, name, date_created) VALUES (?, ?, ?)\n",
      "2021-01-22 15:17:25,905 INFO sqlalchemy.engine.base.Engine (193, 'BBQ', '2021-01-22 15:17:25.904206')\n",
      "2021-01-22 15:17:25,906 INFO sqlalchemy.engine.base.Engine INSERT INTO cuisines (zomato_id, name, date_created) VALUES (?, ?, ?)\n",
      "2021-01-22 15:17:25,907 INFO sqlalchemy.engine.base.Engine (955, 'Bagels', '2021-01-22 15:17:25.906608')\n",
      "2021-01-22 15:17:25,908 INFO sqlalchemy.engine.base.Engine INSERT INTO cuisines (zomato_id, name, date_created) VALUES (?, ?, ?)\n",
      "2021-01-22 15:17:25,911 INFO sqlalchemy.engine.base.Engine (5, 'Bakery', '2021-01-22 15:17:25.908649')\n",
      "2021-01-22 15:17:25,912 INFO sqlalchemy.engine.base.Engine INSERT INTO cuisines (zomato_id, name, date_created) VALUES (?, ?, ?)\n",
      "2021-01-22 15:17:25,913 INFO sqlalchemy.engine.base.Engine (227, 'Bar Food', '2021-01-22 15:17:25.912358')\n",
      "2021-01-22 15:17:25,915 INFO sqlalchemy.engine.base.Engine INSERT INTO cuisines (zomato_id, name, date_created) VALUES (?, ?, ?)\n",
      "2021-01-22 15:17:25,916 INFO sqlalchemy.engine.base.Engine (270, 'Beverages', '2021-01-22 15:17:25.915400')\n",
      "2021-01-22 15:17:25,918 INFO sqlalchemy.engine.base.Engine INSERT INTO cuisines (zomato_id, name, date_created) VALUES (?, ?, ?)\n",
      "2021-01-22 15:17:25,918 INFO sqlalchemy.engine.base.Engine (159, 'Brazilian', '2021-01-22 15:17:25.918113')\n",
      "2021-01-22 15:17:25,920 INFO sqlalchemy.engine.base.Engine INSERT INTO cuisines (zomato_id, name, date_created) VALUES (?, ?, ?)\n",
      "2021-01-22 15:17:25,920 INFO sqlalchemy.engine.base.Engine (182, 'Breakfast', '2021-01-22 15:17:25.920050')\n",
      "2021-01-22 15:17:25,921 INFO sqlalchemy.engine.base.Engine INSERT INTO cuisines (zomato_id, name, date_created) VALUES (?, ?, ?)\n",
      "2021-01-22 15:17:25,922 INFO sqlalchemy.engine.base.Engine (133, 'British', '2021-01-22 15:17:25.921637')\n",
      "2021-01-22 15:17:25,923 INFO sqlalchemy.engine.base.Engine INSERT INTO cuisines (zomato_id, name, date_created) VALUES (?, ?, ?)\n",
      "2021-01-22 15:17:25,924 INFO sqlalchemy.engine.base.Engine (247, 'Bubble Tea', '2021-01-22 15:17:25.923544')\n",
      "2021-01-22 15:17:25,925 INFO sqlalchemy.engine.base.Engine INSERT INTO cuisines (zomato_id, name, date_created) VALUES (?, ?, ?)\n",
      "2021-01-22 15:17:25,925 INFO sqlalchemy.engine.base.Engine (168, 'Burger', '2021-01-22 15:17:25.925036')\n",
      "2021-01-22 15:17:25,926 INFO sqlalchemy.engine.base.Engine INSERT INTO cuisines (zomato_id, name, date_created) VALUES (?, ?, ?)\n",
      "2021-01-22 15:17:25,927 INFO sqlalchemy.engine.base.Engine (22, 'Burmese', '2021-01-22 15:17:25.926721')\n",
      "2021-01-22 15:17:25,928 INFO sqlalchemy.engine.base.Engine INSERT INTO cuisines (zomato_id, name, date_created) VALUES (?, ?, ?)\n",
      "2021-01-22 15:17:25,929 INFO sqlalchemy.engine.base.Engine (30, 'Cafe', '2021-01-22 15:17:25.928748')\n",
      "2021-01-22 15:17:25,930 INFO sqlalchemy.engine.base.Engine INSERT INTO cuisines (zomato_id, name, date_created) VALUES (?, ?, ?)\n",
      "2021-01-22 15:17:25,931 INFO sqlalchemy.engine.base.Engine (491, 'Cajun', '2021-01-22 15:17:25.930383')\n",
      "2021-01-22 15:17:25,932 INFO sqlalchemy.engine.base.Engine INSERT INTO cuisines (zomato_id, name, date_created) VALUES (?, ?, ?)\n",
      "2021-01-22 15:17:25,933 INFO sqlalchemy.engine.base.Engine (1035, 'Afghan', '2021-01-22 15:17:25.932473')\n",
      "2021-01-22 15:17:25,935 INFO sqlalchemy.engine.base.Engine INSERT INTO cuisines (zomato_id, name, date_created) VALUES (?, ?, ?)\n",
      "2021-01-22 15:17:25,936 INFO sqlalchemy.engine.base.Engine (6, 'Afghani', '2021-01-22 15:17:25.935315')\n",
      "2021-01-22 15:17:25,936 INFO sqlalchemy.engine.base.Engine INSERT INTO cuisines (zomato_id, name, date_created) VALUES (?, ?, ?)\n",
      "2021-01-22 15:17:25,937 INFO sqlalchemy.engine.base.Engine (152, 'African', '2021-01-22 15:17:25.936932')\n",
      "2021-01-22 15:17:25,938 INFO sqlalchemy.engine.base.Engine INSERT INTO cuisines (zomato_id, name, date_created) VALUES (?, ?, ?)\n",
      "2021-01-22 15:17:25,939 INFO sqlalchemy.engine.base.Engine (1, 'American', '2021-01-22 15:17:25.938281')\n",
      "2021-01-22 15:17:25,940 INFO sqlalchemy.engine.base.Engine INSERT INTO cuisines (zomato_id, name, date_created) VALUES (?, ?, ?)\n",
      "2021-01-22 15:17:25,941 INFO sqlalchemy.engine.base.Engine (954, 'Amish', '2021-01-22 15:17:25.939984')\n",
      "2021-01-22 15:17:25,943 INFO sqlalchemy.engine.base.Engine INSERT INTO cuisines (zomato_id, name, date_created) VALUES (?, ?, ?)\n",
      "2021-01-22 15:17:25,944 INFO sqlalchemy.engine.base.Engine (151, 'Argentine', '2021-01-22 15:17:25.942702')\n",
      "2021-01-22 15:17:25,945 INFO sqlalchemy.engine.base.Engine INSERT INTO cuisines (zomato_id, name, date_created) VALUES (?, ?, ?)\n",
      "2021-01-22 15:17:25,945 INFO sqlalchemy.engine.base.Engine (175, 'Armenian', '2021-01-22 15:17:25.945224')\n",
      "2021-01-22 15:17:25,946 INFO sqlalchemy.engine.base.Engine INSERT INTO cuisines (zomato_id, name, date_created) VALUES (?, ?, ?)\n",
      "2021-01-22 15:17:25,947 INFO sqlalchemy.engine.base.Engine (3, 'Asian', '2021-01-22 15:17:25.946740')\n",
      "2021-01-22 15:17:25,948 INFO sqlalchemy.engine.base.Engine INSERT INTO cuisines (zomato_id, name, date_created) VALUES (?, ?, ?)\n",
      "2021-01-22 15:17:25,949 INFO sqlalchemy.engine.base.Engine (131, 'Australian', '2021-01-22 15:17:25.948495')\n",
      "2021-01-22 15:17:25,950 INFO sqlalchemy.engine.base.Engine INSERT INTO cuisines (zomato_id, name, date_created) VALUES (?, ?, ?)\n",
      "2021-01-22 15:17:25,951 INFO sqlalchemy.engine.base.Engine (201, 'Austrian', '2021-01-22 15:17:25.950381')\n",
      "2021-01-22 15:17:25,952 INFO sqlalchemy.engine.base.Engine INSERT INTO cuisines (zomato_id, name, date_created) VALUES (?, ?, ?)\n",
      "2021-01-22 15:17:25,953 INFO sqlalchemy.engine.base.Engine (193, 'BBQ', '2021-01-22 15:17:25.952470')\n",
      "2021-01-22 15:17:25,954 INFO sqlalchemy.engine.base.Engine INSERT INTO cuisines (zomato_id, name, date_created) VALUES (?, ?, ?)\n",
      "2021-01-22 15:17:25,955 INFO sqlalchemy.engine.base.Engine (955, 'Bagels', '2021-01-22 15:17:25.954527')\n",
      "2021-01-22 15:17:25,957 INFO sqlalchemy.engine.base.Engine INSERT INTO cuisines (zomato_id, name, date_created) VALUES (?, ?, ?)\n",
      "2021-01-22 15:17:25,957 INFO sqlalchemy.engine.base.Engine (5, 'Bakery', '2021-01-22 15:17:25.957014')\n",
      "2021-01-22 15:17:25,958 INFO sqlalchemy.engine.base.Engine INSERT INTO cuisines (zomato_id, name, date_created) VALUES (?, ?, ?)\n",
      "2021-01-22 15:17:25,959 INFO sqlalchemy.engine.base.Engine (227, 'Bar Food', '2021-01-22 15:17:25.958859')\n",
      "2021-01-22 15:17:25,961 INFO sqlalchemy.engine.base.Engine INSERT INTO cuisines (zomato_id, name, date_created) VALUES (?, ?, ?)\n",
      "2021-01-22 15:17:25,961 INFO sqlalchemy.engine.base.Engine (132, 'Belgian', '2021-01-22 15:17:25.961120')\n"
     ]
    },
    {
     "name": "stdout",
     "output_type": "stream",
     "text": [
      "2021-01-22 15:17:25,962 INFO sqlalchemy.engine.base.Engine INSERT INTO cuisines (zomato_id, name, date_created) VALUES (?, ?, ?)\n",
      "2021-01-22 15:17:25,963 INFO sqlalchemy.engine.base.Engine (270, 'Beverages', '2021-01-22 15:17:25.962751')\n",
      "2021-01-22 15:17:25,964 INFO sqlalchemy.engine.base.Engine INSERT INTO cuisines (zomato_id, name, date_created) VALUES (?, ?, ?)\n",
      "2021-01-22 15:17:25,965 INFO sqlalchemy.engine.base.Engine (159, 'Brazilian', '2021-01-22 15:17:25.964503')\n",
      "2021-01-22 15:17:25,966 INFO sqlalchemy.engine.base.Engine INSERT INTO cuisines (zomato_id, name, date_created) VALUES (?, ?, ?)\n",
      "2021-01-22 15:17:25,967 INFO sqlalchemy.engine.base.Engine (182, 'Breakfast', '2021-01-22 15:17:25.966280')\n",
      "2021-01-22 15:17:25,968 INFO sqlalchemy.engine.base.Engine INSERT INTO cuisines (zomato_id, name, date_created) VALUES (?, ?, ?)\n",
      "2021-01-22 15:17:25,969 INFO sqlalchemy.engine.base.Engine (133, 'British', '2021-01-22 15:17:25.968380')\n",
      "2021-01-22 15:17:25,970 INFO sqlalchemy.engine.base.Engine INSERT INTO cuisines (zomato_id, name, date_created) VALUES (?, ?, ?)\n",
      "2021-01-22 15:17:25,972 INFO sqlalchemy.engine.base.Engine (247, 'Bubble Tea', '2021-01-22 15:17:25.970366')\n",
      "2021-01-22 15:17:25,973 INFO sqlalchemy.engine.base.Engine INSERT INTO cuisines (zomato_id, name, date_created) VALUES (?, ?, ?)\n",
      "2021-01-22 15:17:25,975 INFO sqlalchemy.engine.base.Engine (1035, 'Afghan', '2021-01-22 15:17:25.973755')\n",
      "2021-01-22 15:17:25,976 INFO sqlalchemy.engine.base.Engine INSERT INTO cuisines (zomato_id, name, date_created) VALUES (?, ?, ?)\n",
      "2021-01-22 15:17:25,977 INFO sqlalchemy.engine.base.Engine (152, 'African', '2021-01-22 15:17:25.976795')\n",
      "2021-01-22 15:17:25,979 INFO sqlalchemy.engine.base.Engine INSERT INTO cuisines (zomato_id, name, date_created) VALUES (?, ?, ?)\n",
      "2021-01-22 15:17:25,979 INFO sqlalchemy.engine.base.Engine (1, 'American', '2021-01-22 15:17:25.979022')\n",
      "2021-01-22 15:17:25,981 INFO sqlalchemy.engine.base.Engine INSERT INTO cuisines (zomato_id, name, date_created) VALUES (?, ?, ?)\n",
      "2021-01-22 15:17:25,982 INFO sqlalchemy.engine.base.Engine (151, 'Argentine', '2021-01-22 15:17:25.981343')\n",
      "2021-01-22 15:17:25,984 INFO sqlalchemy.engine.base.Engine INSERT INTO cuisines (zomato_id, name, date_created) VALUES (?, ?, ?)\n",
      "2021-01-22 15:17:25,985 INFO sqlalchemy.engine.base.Engine (175, 'Armenian', '2021-01-22 15:17:25.984019')\n",
      "2021-01-22 15:17:25,986 INFO sqlalchemy.engine.base.Engine INSERT INTO cuisines (zomato_id, name, date_created) VALUES (?, ?, ?)\n",
      "2021-01-22 15:17:25,987 INFO sqlalchemy.engine.base.Engine (3, 'Asian', '2021-01-22 15:17:25.986493')\n",
      "2021-01-22 15:17:25,988 INFO sqlalchemy.engine.base.Engine INSERT INTO cuisines (zomato_id, name, date_created) VALUES (?, ?, ?)\n",
      "2021-01-22 15:17:25,988 INFO sqlalchemy.engine.base.Engine (131, 'Australian', '2021-01-22 15:17:25.988250')\n",
      "2021-01-22 15:17:25,990 INFO sqlalchemy.engine.base.Engine INSERT INTO cuisines (zomato_id, name, date_created) VALUES (?, ?, ?)\n",
      "2021-01-22 15:17:25,991 INFO sqlalchemy.engine.base.Engine (201, 'Austrian', '2021-01-22 15:17:25.990372')\n",
      "2021-01-22 15:17:25,992 INFO sqlalchemy.engine.base.Engine INSERT INTO cuisines (zomato_id, name, date_created) VALUES (?, ?, ?)\n",
      "2021-01-22 15:17:25,994 INFO sqlalchemy.engine.base.Engine (193, 'BBQ', '2021-01-22 15:17:25.992023')\n",
      "2021-01-22 15:17:25,996 INFO sqlalchemy.engine.base.Engine INSERT INTO cuisines (zomato_id, name, date_created) VALUES (?, ?, ?)\n",
      "2021-01-22 15:17:26,000 INFO sqlalchemy.engine.base.Engine (955, 'Bagels', '2021-01-22 15:17:25.995864')\n",
      "2021-01-22 15:17:26,001 INFO sqlalchemy.engine.base.Engine INSERT INTO cuisines (zomato_id, name, date_created) VALUES (?, ?, ?)\n",
      "2021-01-22 15:17:26,002 INFO sqlalchemy.engine.base.Engine (5, 'Bakery', '2021-01-22 15:17:26.001799')\n",
      "2021-01-22 15:17:26,003 INFO sqlalchemy.engine.base.Engine INSERT INTO cuisines (zomato_id, name, date_created) VALUES (?, ?, ?)\n",
      "2021-01-22 15:17:26,004 INFO sqlalchemy.engine.base.Engine (227, 'Bar Food', '2021-01-22 15:17:26.003476')\n",
      "2021-01-22 15:17:26,005 INFO sqlalchemy.engine.base.Engine INSERT INTO cuisines (zomato_id, name, date_created) VALUES (?, ?, ?)\n",
      "2021-01-22 15:17:26,006 INFO sqlalchemy.engine.base.Engine (132, 'Belgian', '2021-01-22 15:17:26.005328')\n",
      "2021-01-22 15:17:26,047 INFO sqlalchemy.engine.base.Engine INSERT INTO cuisines (zomato_id, name, date_created) VALUES (?, ?, ?)\n",
      "2021-01-22 15:17:26,059 INFO sqlalchemy.engine.base.Engine (270, 'Beverages', '2021-01-22 15:17:26.047796')\n",
      "2021-01-22 15:17:26,071 INFO sqlalchemy.engine.base.Engine INSERT INTO cuisines (zomato_id, name, date_created) VALUES (?, ?, ?)\n",
      "2021-01-22 15:17:26,074 INFO sqlalchemy.engine.base.Engine (159, 'Brazilian', '2021-01-22 15:17:26.071240')\n",
      "2021-01-22 15:17:26,075 INFO sqlalchemy.engine.base.Engine INSERT INTO cuisines (zomato_id, name, date_created) VALUES (?, ?, ?)\n",
      "2021-01-22 15:17:26,076 INFO sqlalchemy.engine.base.Engine (182, 'Breakfast', '2021-01-22 15:17:26.075948')\n",
      "2021-01-22 15:17:26,077 INFO sqlalchemy.engine.base.Engine INSERT INTO cuisines (zomato_id, name, date_created) VALUES (?, ?, ?)\n",
      "2021-01-22 15:17:26,078 INFO sqlalchemy.engine.base.Engine (133, 'British', '2021-01-22 15:17:26.077867')\n",
      "2021-01-22 15:17:26,081 INFO sqlalchemy.engine.base.Engine INSERT INTO cuisines (zomato_id, name, date_created) VALUES (?, ?, ?)\n",
      "2021-01-22 15:17:26,082 INFO sqlalchemy.engine.base.Engine (247, 'Bubble Tea', '2021-01-22 15:17:26.081391')\n",
      "2021-01-22 15:17:26,084 INFO sqlalchemy.engine.base.Engine INSERT INTO cuisines (zomato_id, name, date_created) VALUES (?, ?, ?)\n",
      "2021-01-22 15:17:26,086 INFO sqlalchemy.engine.base.Engine (168, 'Burger', '2021-01-22 15:17:26.084697')\n",
      "2021-01-22 15:17:26,092 INFO sqlalchemy.engine.base.Engine INSERT INTO cuisines (zomato_id, name, date_created) VALUES (?, ?, ?)\n",
      "2021-01-22 15:17:26,093 INFO sqlalchemy.engine.base.Engine (30, 'Cafe', '2021-01-22 15:17:26.091163')\n",
      "2021-01-22 15:17:26,102 INFO sqlalchemy.engine.base.Engine SELECT cuisines.cuisine_id AS cuisines_cuisine_id, cuisines.zomato_id AS cuisines_zomato_id, cuisines.name AS cuisines_name, cuisines.date_created AS cuisines_date_created \n",
      "FROM cuisines\n",
      "2021-01-22 15:17:26,110 INFO sqlalchemy.engine.base.Engine ()\n"
     ]
    }
   ],
   "source": [
    "all_cuis = session.query(Cuisine).all()"
   ]
  },
  {
   "cell_type": "code",
   "execution_count": 139,
   "metadata": {},
   "outputs": [
    {
     "name": "stdout",
     "output_type": "stream",
     "text": [
      "Afghan\n",
      "African\n",
      "American\n",
      "Argentine\n",
      "Armenian\n"
     ]
    }
   ],
   "source": [
    "for city in all_cuis[:5]:\n",
    "    print(city.name)"
   ]
  },
  {
   "cell_type": "code",
   "execution_count": null,
   "metadata": {},
   "outputs": [],
   "source": []
  },
  {
   "cell_type": "markdown",
   "metadata": {},
   "source": [
    "## Querying / Filtering"
   ]
  },
  {
   "cell_type": "markdown",
   "metadata": {},
   "source": [
    "Let's get order cuisines alphabetically.\n"
   ]
  },
  {
   "cell_type": "code",
   "execution_count": 147,
   "metadata": {},
   "outputs": [
    {
     "name": "stdout",
     "output_type": "stream",
     "text": [
      "2021-01-22 15:57:19,120 INFO sqlalchemy.engine.base.Engine SELECT cuisines.cuisine_id AS cuisines_cuisine_id, cuisines.zomato_id AS cuisines_zomato_id, cuisines.name AS cuisines_name, cuisines.date_created AS cuisines_date_created \n",
      "FROM cuisines ORDER BY cuisines.name\n",
      " LIMIT ? OFFSET ?\n",
      "2021-01-22 15:57:19,121 INFO sqlalchemy.engine.base.Engine (10, 0)\n",
      "1035: Afghan\n",
      "1035: Afghan\n",
      "1035: Afghan\n",
      "6: Afghani\n",
      "152: African\n",
      "152: African\n",
      "152: African\n",
      "1: American\n",
      "1: American\n",
      "1: American\n"
     ]
    }
   ],
   "source": [
    "for c in session.query(Cuisine).order_by(Cuisine.name)[:10]:\n",
    "    print(c)"
   ]
  },
  {
   "cell_type": "markdown",
   "metadata": {},
   "source": [
    "Let's get all the distict names."
   ]
  },
  {
   "cell_type": "code",
   "execution_count": null,
   "metadata": {},
   "outputs": [],
   "source": []
  },
  {
   "cell_type": "code",
   "execution_count": 169,
   "metadata": {},
   "outputs": [
    {
     "name": "stdout",
     "output_type": "stream",
     "text": [
      "2021-01-22 16:10:27,063 INFO sqlalchemy.engine.base.Engine SELECT DISTINCT cuisines.cuisine_id AS cuisines_cuisine_id, cuisines.zomato_id AS cuisines_zomato_id, cuisines.name AS cuisines_name, cuisines.date_created AS cuisines_date_created \n",
      "FROM cuisines\n",
      "2021-01-22 16:10:27,065 INFO sqlalchemy.engine.base.Engine ()\n"
     ]
    }
   ],
   "source": [
    "distinct_names = []\n",
    "for c in session.query(Cuisine).distinct(Cuisine.name):\n",
    "    distinct_names.append(c.name)"
   ]
  },
  {
   "cell_type": "code",
   "execution_count": 170,
   "metadata": {},
   "outputs": [
    {
     "data": {
      "text/plain": [
       "['Afghan',\n",
       " 'African',\n",
       " 'American',\n",
       " 'Argentine',\n",
       " 'Armenian',\n",
       " 'Asian',\n",
       " 'Australian',\n",
       " 'BBQ',\n",
       " 'Bagels',\n",
       " 'Bakery']"
      ]
     },
     "execution_count": 170,
     "metadata": {},
     "output_type": "execute_result"
    }
   ],
   "source": []
  },
  {
   "cell_type": "markdown",
   "metadata": {},
   "source": [
    "Let's dedupe.\n",
    "\n",
    "For each name, get all the records that match the name, pick one to be the survivor and delete the others."
   ]
  },
  {
   "cell_type": "code",
   "execution_count": 172,
   "metadata": {},
   "outputs": [
    {
     "name": "stdout",
     "output_type": "stream",
     "text": [
      "2021-01-22 16:13:17,533 INFO sqlalchemy.engine.base.Engine SELECT cuisines.cuisine_id AS cuisines_cuisine_id, cuisines.zomato_id AS cuisines_zomato_id, cuisines.name AS cuisines_name, cuisines.date_created AS cuisines_date_created \n",
      "FROM cuisines \n",
      "WHERE cuisines.name = ?\n",
      "2021-01-22 16:13:17,549 INFO sqlalchemy.engine.base.Engine ('Afghan',)\n"
     ]
    },
    {
     "data": {
      "text/plain": [
       "[1035: Afghan, 1035: Afghan, 1035: Afghan]"
      ]
     },
     "execution_count": 172,
     "metadata": {},
     "output_type": "execute_result"
    }
   ],
   "source": []
  },
  {
   "cell_type": "code",
   "execution_count": 173,
   "metadata": {},
   "outputs": [
    {
     "name": "stdout",
     "output_type": "stream",
     "text": [
      "2021-01-22 16:15:23,858 INFO sqlalchemy.engine.base.Engine SELECT cuisines.cuisine_id AS cuisines_cuisine_id, cuisines.zomato_id AS cuisines_zomato_id, cuisines.name AS cuisines_name, cuisines.date_created AS cuisines_date_created \n",
      "FROM cuisines \n",
      "WHERE cuisines.name = ?\n",
      "2021-01-22 16:15:23,859 INFO sqlalchemy.engine.base.Engine ('Afghan',)\n",
      "2021-01-22 16:15:23,865 INFO sqlalchemy.engine.base.Engine DELETE FROM cuisines WHERE cuisines.cuisine_id = ?\n",
      "2021-01-22 16:15:23,867 INFO sqlalchemy.engine.base.Engine ((21,), (41,))\n",
      "2021-01-22 16:15:23,897 INFO sqlalchemy.engine.base.Engine SELECT cuisines.cuisine_id AS cuisines_cuisine_id, cuisines.zomato_id AS cuisines_zomato_id, cuisines.name AS cuisines_name, cuisines.date_created AS cuisines_date_created \n",
      "FROM cuisines \n",
      "WHERE cuisines.name = ?\n",
      "2021-01-22 16:15:23,914 INFO sqlalchemy.engine.base.Engine ('African',)\n",
      "2021-01-22 16:15:23,918 INFO sqlalchemy.engine.base.Engine DELETE FROM cuisines WHERE cuisines.cuisine_id = ?\n",
      "2021-01-22 16:15:23,919 INFO sqlalchemy.engine.base.Engine ((23,), (42,))\n",
      "2021-01-22 16:15:23,920 INFO sqlalchemy.engine.base.Engine SELECT cuisines.cuisine_id AS cuisines_cuisine_id, cuisines.zomato_id AS cuisines_zomato_id, cuisines.name AS cuisines_name, cuisines.date_created AS cuisines_date_created \n",
      "FROM cuisines \n",
      "WHERE cuisines.name = ?\n",
      "2021-01-22 16:15:23,922 INFO sqlalchemy.engine.base.Engine ('American',)\n",
      "2021-01-22 16:15:23,926 INFO sqlalchemy.engine.base.Engine DELETE FROM cuisines WHERE cuisines.cuisine_id = ?\n",
      "2021-01-22 16:15:23,927 INFO sqlalchemy.engine.base.Engine ((24,), (43,))\n",
      "2021-01-22 16:15:23,929 INFO sqlalchemy.engine.base.Engine SELECT cuisines.cuisine_id AS cuisines_cuisine_id, cuisines.zomato_id AS cuisines_zomato_id, cuisines.name AS cuisines_name, cuisines.date_created AS cuisines_date_created \n",
      "FROM cuisines \n",
      "WHERE cuisines.name = ?\n",
      "2021-01-22 16:15:23,930 INFO sqlalchemy.engine.base.Engine ('Argentine',)\n",
      "2021-01-22 16:15:23,933 INFO sqlalchemy.engine.base.Engine DELETE FROM cuisines WHERE cuisines.cuisine_id = ?\n",
      "2021-01-22 16:15:23,939 INFO sqlalchemy.engine.base.Engine ((26,), (44,))\n",
      "2021-01-22 16:15:23,951 INFO sqlalchemy.engine.base.Engine SELECT cuisines.cuisine_id AS cuisines_cuisine_id, cuisines.zomato_id AS cuisines_zomato_id, cuisines.name AS cuisines_name, cuisines.date_created AS cuisines_date_created \n",
      "FROM cuisines \n",
      "WHERE cuisines.name = ?\n",
      "2021-01-22 16:15:23,958 INFO sqlalchemy.engine.base.Engine ('Armenian',)\n",
      "2021-01-22 16:15:23,960 INFO sqlalchemy.engine.base.Engine DELETE FROM cuisines WHERE cuisines.cuisine_id = ?\n",
      "2021-01-22 16:15:23,962 INFO sqlalchemy.engine.base.Engine ((27,), (45,))\n",
      "2021-01-22 16:15:23,973 INFO sqlalchemy.engine.base.Engine SELECT cuisines.cuisine_id AS cuisines_cuisine_id, cuisines.zomato_id AS cuisines_zomato_id, cuisines.name AS cuisines_name, cuisines.date_created AS cuisines_date_created \n",
      "FROM cuisines \n",
      "WHERE cuisines.name = ?\n",
      "2021-01-22 16:15:23,974 INFO sqlalchemy.engine.base.Engine ('Asian',)\n",
      "2021-01-22 16:15:23,976 INFO sqlalchemy.engine.base.Engine DELETE FROM cuisines WHERE cuisines.cuisine_id = ?\n",
      "2021-01-22 16:15:23,984 INFO sqlalchemy.engine.base.Engine ((28,), (46,))\n",
      "2021-01-22 16:15:23,986 INFO sqlalchemy.engine.base.Engine SELECT cuisines.cuisine_id AS cuisines_cuisine_id, cuisines.zomato_id AS cuisines_zomato_id, cuisines.name AS cuisines_name, cuisines.date_created AS cuisines_date_created \n",
      "FROM cuisines \n",
      "WHERE cuisines.name = ?\n",
      "2021-01-22 16:15:23,987 INFO sqlalchemy.engine.base.Engine ('Australian',)\n",
      "2021-01-22 16:15:23,997 INFO sqlalchemy.engine.base.Engine DELETE FROM cuisines WHERE cuisines.cuisine_id = ?\n",
      "2021-01-22 16:15:24,000 INFO sqlalchemy.engine.base.Engine ((29,), (47,))\n",
      "2021-01-22 16:15:24,004 INFO sqlalchemy.engine.base.Engine SELECT cuisines.cuisine_id AS cuisines_cuisine_id, cuisines.zomato_id AS cuisines_zomato_id, cuisines.name AS cuisines_name, cuisines.date_created AS cuisines_date_created \n",
      "FROM cuisines \n",
      "WHERE cuisines.name = ?\n",
      "2021-01-22 16:15:24,005 INFO sqlalchemy.engine.base.Engine ('BBQ',)\n",
      "2021-01-22 16:15:24,008 INFO sqlalchemy.engine.base.Engine DELETE FROM cuisines WHERE cuisines.cuisine_id = ?\n",
      "2021-01-22 16:15:24,009 INFO sqlalchemy.engine.base.Engine ((31,), (49,))\n",
      "2021-01-22 16:15:24,010 INFO sqlalchemy.engine.base.Engine SELECT cuisines.cuisine_id AS cuisines_cuisine_id, cuisines.zomato_id AS cuisines_zomato_id, cuisines.name AS cuisines_name, cuisines.date_created AS cuisines_date_created \n",
      "FROM cuisines \n",
      "WHERE cuisines.name = ?\n",
      "2021-01-22 16:15:24,012 INFO sqlalchemy.engine.base.Engine ('Bagels',)\n",
      "2021-01-22 16:15:24,013 INFO sqlalchemy.engine.base.Engine DELETE FROM cuisines WHERE cuisines.cuisine_id = ?\n",
      "2021-01-22 16:15:24,014 INFO sqlalchemy.engine.base.Engine ((32,), (50,))\n",
      "2021-01-22 16:15:24,016 INFO sqlalchemy.engine.base.Engine SELECT cuisines.cuisine_id AS cuisines_cuisine_id, cuisines.zomato_id AS cuisines_zomato_id, cuisines.name AS cuisines_name, cuisines.date_created AS cuisines_date_created \n",
      "FROM cuisines \n",
      "WHERE cuisines.name = ?\n",
      "2021-01-22 16:15:24,017 INFO sqlalchemy.engine.base.Engine ('Bakery',)\n",
      "2021-01-22 16:15:24,019 INFO sqlalchemy.engine.base.Engine DELETE FROM cuisines WHERE cuisines.cuisine_id = ?\n",
      "2021-01-22 16:15:24,020 INFO sqlalchemy.engine.base.Engine ((33,), (51,))\n",
      "2021-01-22 16:15:24,022 INFO sqlalchemy.engine.base.Engine SELECT cuisines.cuisine_id AS cuisines_cuisine_id, cuisines.zomato_id AS cuisines_zomato_id, cuisines.name AS cuisines_name, cuisines.date_created AS cuisines_date_created \n",
      "FROM cuisines \n",
      "WHERE cuisines.name = ?\n",
      "2021-01-22 16:15:24,022 INFO sqlalchemy.engine.base.Engine ('Bar Food',)\n",
      "2021-01-22 16:15:24,025 INFO sqlalchemy.engine.base.Engine DELETE FROM cuisines WHERE cuisines.cuisine_id = ?\n",
      "2021-01-22 16:15:24,026 INFO sqlalchemy.engine.base.Engine ((34,), (52,))\n",
      "2021-01-22 16:15:24,027 INFO sqlalchemy.engine.base.Engine SELECT cuisines.cuisine_id AS cuisines_cuisine_id, cuisines.zomato_id AS cuisines_zomato_id, cuisines.name AS cuisines_name, cuisines.date_created AS cuisines_date_created \n",
      "FROM cuisines \n",
      "WHERE cuisines.name = ?\n",
      "2021-01-22 16:15:24,028 INFO sqlalchemy.engine.base.Engine ('Beverages',)\n",
      "2021-01-22 16:15:24,030 INFO sqlalchemy.engine.base.Engine DELETE FROM cuisines WHERE cuisines.cuisine_id = ?\n",
      "2021-01-22 16:15:24,031 INFO sqlalchemy.engine.base.Engine ((36,), (54,))\n",
      "2021-01-22 16:15:24,032 INFO sqlalchemy.engine.base.Engine SELECT cuisines.cuisine_id AS cuisines_cuisine_id, cuisines.zomato_id AS cuisines_zomato_id, cuisines.name AS cuisines_name, cuisines.date_created AS cuisines_date_created \n",
      "FROM cuisines \n",
      "WHERE cuisines.name = ?\n",
      "2021-01-22 16:15:24,033 INFO sqlalchemy.engine.base.Engine ('Brazilian',)\n",
      "2021-01-22 16:15:24,035 INFO sqlalchemy.engine.base.Engine DELETE FROM cuisines WHERE cuisines.cuisine_id = ?\n",
      "2021-01-22 16:15:24,036 INFO sqlalchemy.engine.base.Engine ((37,), (55,))\n",
      "2021-01-22 16:15:24,037 INFO sqlalchemy.engine.base.Engine SELECT cuisines.cuisine_id AS cuisines_cuisine_id, cuisines.zomato_id AS cuisines_zomato_id, cuisines.name AS cuisines_name, cuisines.date_created AS cuisines_date_created \n",
      "FROM cuisines \n",
      "WHERE cuisines.name = ?\n",
      "2021-01-22 16:15:24,041 INFO sqlalchemy.engine.base.Engine ('Breakfast',)\n",
      "2021-01-22 16:15:24,044 INFO sqlalchemy.engine.base.Engine DELETE FROM cuisines WHERE cuisines.cuisine_id = ?\n",
      "2021-01-22 16:15:24,046 INFO sqlalchemy.engine.base.Engine ((38,), (56,))\n",
      "2021-01-22 16:15:24,048 INFO sqlalchemy.engine.base.Engine SELECT cuisines.cuisine_id AS cuisines_cuisine_id, cuisines.zomato_id AS cuisines_zomato_id, cuisines.name AS cuisines_name, cuisines.date_created AS cuisines_date_created \n",
      "FROM cuisines \n",
      "WHERE cuisines.name = ?\n",
      "2021-01-22 16:15:24,049 INFO sqlalchemy.engine.base.Engine ('British',)\n",
      "2021-01-22 16:15:24,051 INFO sqlalchemy.engine.base.Engine DELETE FROM cuisines WHERE cuisines.cuisine_id = ?\n",
      "2021-01-22 16:15:24,051 INFO sqlalchemy.engine.base.Engine ((39,), (57,))\n",
      "2021-01-22 16:15:24,053 INFO sqlalchemy.engine.base.Engine SELECT cuisines.cuisine_id AS cuisines_cuisine_id, cuisines.zomato_id AS cuisines_zomato_id, cuisines.name AS cuisines_name, cuisines.date_created AS cuisines_date_created \n",
      "FROM cuisines \n",
      "WHERE cuisines.name = ?\n",
      "2021-01-22 16:15:24,053 INFO sqlalchemy.engine.base.Engine ('Bubble Tea',)\n"
     ]
    },
    {
     "name": "stdout",
     "output_type": "stream",
     "text": [
      "2021-01-22 16:15:24,055 INFO sqlalchemy.engine.base.Engine DELETE FROM cuisines WHERE cuisines.cuisine_id = ?\n",
      "2021-01-22 16:15:24,056 INFO sqlalchemy.engine.base.Engine ((40,), (58,))\n",
      "2021-01-22 16:15:24,058 INFO sqlalchemy.engine.base.Engine SELECT cuisines.cuisine_id AS cuisines_cuisine_id, cuisines.zomato_id AS cuisines_zomato_id, cuisines.name AS cuisines_name, cuisines.date_created AS cuisines_date_created \n",
      "FROM cuisines \n",
      "WHERE cuisines.name = ?\n",
      "2021-01-22 16:15:24,059 INFO sqlalchemy.engine.base.Engine ('Burger',)\n",
      "2021-01-22 16:15:24,061 INFO sqlalchemy.engine.base.Engine DELETE FROM cuisines WHERE cuisines.cuisine_id = ?\n",
      "2021-01-22 16:15:24,062 INFO sqlalchemy.engine.base.Engine (59,)\n",
      "2021-01-22 16:15:24,064 INFO sqlalchemy.engine.base.Engine SELECT cuisines.cuisine_id AS cuisines_cuisine_id, cuisines.zomato_id AS cuisines_zomato_id, cuisines.name AS cuisines_name, cuisines.date_created AS cuisines_date_created \n",
      "FROM cuisines \n",
      "WHERE cuisines.name = ?\n",
      "2021-01-22 16:15:24,065 INFO sqlalchemy.engine.base.Engine ('Burmese',)\n",
      "2021-01-22 16:15:24,067 INFO sqlalchemy.engine.base.Engine SELECT cuisines.cuisine_id AS cuisines_cuisine_id, cuisines.zomato_id AS cuisines_zomato_id, cuisines.name AS cuisines_name, cuisines.date_created AS cuisines_date_created \n",
      "FROM cuisines \n",
      "WHERE cuisines.name = ?\n",
      "2021-01-22 16:15:24,068 INFO sqlalchemy.engine.base.Engine ('Cafe',)\n",
      "2021-01-22 16:15:24,070 INFO sqlalchemy.engine.base.Engine DELETE FROM cuisines WHERE cuisines.cuisine_id = ?\n",
      "2021-01-22 16:15:24,070 INFO sqlalchemy.engine.base.Engine (60,)\n",
      "2021-01-22 16:15:24,072 INFO sqlalchemy.engine.base.Engine SELECT cuisines.cuisine_id AS cuisines_cuisine_id, cuisines.zomato_id AS cuisines_zomato_id, cuisines.name AS cuisines_name, cuisines.date_created AS cuisines_date_created \n",
      "FROM cuisines \n",
      "WHERE cuisines.name = ?\n",
      "2021-01-22 16:15:24,072 INFO sqlalchemy.engine.base.Engine ('Cajun',)\n",
      "2021-01-22 16:15:24,074 INFO sqlalchemy.engine.base.Engine SELECT cuisines.cuisine_id AS cuisines_cuisine_id, cuisines.zomato_id AS cuisines_zomato_id, cuisines.name AS cuisines_name, cuisines.date_created AS cuisines_date_created \n",
      "FROM cuisines \n",
      "WHERE cuisines.name = ?\n",
      "2021-01-22 16:15:24,075 INFO sqlalchemy.engine.base.Engine ('Afghan',)\n",
      "2021-01-22 16:15:24,077 INFO sqlalchemy.engine.base.Engine SELECT cuisines.cuisine_id AS cuisines_cuisine_id, cuisines.zomato_id AS cuisines_zomato_id, cuisines.name AS cuisines_name, cuisines.date_created AS cuisines_date_created \n",
      "FROM cuisines \n",
      "WHERE cuisines.name = ?\n",
      "2021-01-22 16:15:24,078 INFO sqlalchemy.engine.base.Engine ('Afghani',)\n",
      "2021-01-22 16:15:24,080 INFO sqlalchemy.engine.base.Engine SELECT cuisines.cuisine_id AS cuisines_cuisine_id, cuisines.zomato_id AS cuisines_zomato_id, cuisines.name AS cuisines_name, cuisines.date_created AS cuisines_date_created \n",
      "FROM cuisines \n",
      "WHERE cuisines.name = ?\n",
      "2021-01-22 16:15:24,080 INFO sqlalchemy.engine.base.Engine ('African',)\n",
      "2021-01-22 16:15:24,082 INFO sqlalchemy.engine.base.Engine SELECT cuisines.cuisine_id AS cuisines_cuisine_id, cuisines.zomato_id AS cuisines_zomato_id, cuisines.name AS cuisines_name, cuisines.date_created AS cuisines_date_created \n",
      "FROM cuisines \n",
      "WHERE cuisines.name = ?\n",
      "2021-01-22 16:15:24,083 INFO sqlalchemy.engine.base.Engine ('American',)\n",
      "2021-01-22 16:15:24,086 INFO sqlalchemy.engine.base.Engine SELECT cuisines.cuisine_id AS cuisines_cuisine_id, cuisines.zomato_id AS cuisines_zomato_id, cuisines.name AS cuisines_name, cuisines.date_created AS cuisines_date_created \n",
      "FROM cuisines \n",
      "WHERE cuisines.name = ?\n",
      "2021-01-22 16:15:24,086 INFO sqlalchemy.engine.base.Engine ('Amish',)\n",
      "2021-01-22 16:15:24,088 INFO sqlalchemy.engine.base.Engine SELECT cuisines.cuisine_id AS cuisines_cuisine_id, cuisines.zomato_id AS cuisines_zomato_id, cuisines.name AS cuisines_name, cuisines.date_created AS cuisines_date_created \n",
      "FROM cuisines \n",
      "WHERE cuisines.name = ?\n",
      "2021-01-22 16:15:24,089 INFO sqlalchemy.engine.base.Engine ('Argentine',)\n",
      "2021-01-22 16:15:24,092 INFO sqlalchemy.engine.base.Engine SELECT cuisines.cuisine_id AS cuisines_cuisine_id, cuisines.zomato_id AS cuisines_zomato_id, cuisines.name AS cuisines_name, cuisines.date_created AS cuisines_date_created \n",
      "FROM cuisines \n",
      "WHERE cuisines.name = ?\n",
      "2021-01-22 16:15:24,093 INFO sqlalchemy.engine.base.Engine ('Armenian',)\n",
      "2021-01-22 16:15:24,096 INFO sqlalchemy.engine.base.Engine SELECT cuisines.cuisine_id AS cuisines_cuisine_id, cuisines.zomato_id AS cuisines_zomato_id, cuisines.name AS cuisines_name, cuisines.date_created AS cuisines_date_created \n",
      "FROM cuisines \n",
      "WHERE cuisines.name = ?\n",
      "2021-01-22 16:15:24,098 INFO sqlalchemy.engine.base.Engine ('Asian',)\n",
      "2021-01-22 16:15:24,101 INFO sqlalchemy.engine.base.Engine SELECT cuisines.cuisine_id AS cuisines_cuisine_id, cuisines.zomato_id AS cuisines_zomato_id, cuisines.name AS cuisines_name, cuisines.date_created AS cuisines_date_created \n",
      "FROM cuisines \n",
      "WHERE cuisines.name = ?\n",
      "2021-01-22 16:15:24,101 INFO sqlalchemy.engine.base.Engine ('Australian',)\n",
      "2021-01-22 16:15:24,103 INFO sqlalchemy.engine.base.Engine SELECT cuisines.cuisine_id AS cuisines_cuisine_id, cuisines.zomato_id AS cuisines_zomato_id, cuisines.name AS cuisines_name, cuisines.date_created AS cuisines_date_created \n",
      "FROM cuisines \n",
      "WHERE cuisines.name = ?\n",
      "2021-01-22 16:15:24,104 INFO sqlalchemy.engine.base.Engine ('Austrian',)\n",
      "2021-01-22 16:15:24,106 INFO sqlalchemy.engine.base.Engine DELETE FROM cuisines WHERE cuisines.cuisine_id = ?\n",
      "2021-01-22 16:15:24,107 INFO sqlalchemy.engine.base.Engine (48,)\n",
      "2021-01-22 16:15:24,108 INFO sqlalchemy.engine.base.Engine SELECT cuisines.cuisine_id AS cuisines_cuisine_id, cuisines.zomato_id AS cuisines_zomato_id, cuisines.name AS cuisines_name, cuisines.date_created AS cuisines_date_created \n",
      "FROM cuisines \n",
      "WHERE cuisines.name = ?\n",
      "2021-01-22 16:15:24,109 INFO sqlalchemy.engine.base.Engine ('BBQ',)\n",
      "2021-01-22 16:15:24,110 INFO sqlalchemy.engine.base.Engine SELECT cuisines.cuisine_id AS cuisines_cuisine_id, cuisines.zomato_id AS cuisines_zomato_id, cuisines.name AS cuisines_name, cuisines.date_created AS cuisines_date_created \n",
      "FROM cuisines \n",
      "WHERE cuisines.name = ?\n",
      "2021-01-22 16:15:24,111 INFO sqlalchemy.engine.base.Engine ('Bagels',)\n",
      "2021-01-22 16:15:24,113 INFO sqlalchemy.engine.base.Engine SELECT cuisines.cuisine_id AS cuisines_cuisine_id, cuisines.zomato_id AS cuisines_zomato_id, cuisines.name AS cuisines_name, cuisines.date_created AS cuisines_date_created \n",
      "FROM cuisines \n",
      "WHERE cuisines.name = ?\n",
      "2021-01-22 16:15:24,114 INFO sqlalchemy.engine.base.Engine ('Bakery',)\n",
      "2021-01-22 16:15:24,116 INFO sqlalchemy.engine.base.Engine SELECT cuisines.cuisine_id AS cuisines_cuisine_id, cuisines.zomato_id AS cuisines_zomato_id, cuisines.name AS cuisines_name, cuisines.date_created AS cuisines_date_created \n",
      "FROM cuisines \n",
      "WHERE cuisines.name = ?\n",
      "2021-01-22 16:15:24,117 INFO sqlalchemy.engine.base.Engine ('Bar Food',)\n",
      "2021-01-22 16:15:24,118 INFO sqlalchemy.engine.base.Engine SELECT cuisines.cuisine_id AS cuisines_cuisine_id, cuisines.zomato_id AS cuisines_zomato_id, cuisines.name AS cuisines_name, cuisines.date_created AS cuisines_date_created \n",
      "FROM cuisines \n",
      "WHERE cuisines.name = ?\n",
      "2021-01-22 16:15:24,119 INFO sqlalchemy.engine.base.Engine ('Belgian',)\n",
      "2021-01-22 16:15:24,122 INFO sqlalchemy.engine.base.Engine DELETE FROM cuisines WHERE cuisines.cuisine_id = ?\n",
      "2021-01-22 16:15:24,125 INFO sqlalchemy.engine.base.Engine (53,)\n",
      "2021-01-22 16:15:24,129 INFO sqlalchemy.engine.base.Engine SELECT cuisines.cuisine_id AS cuisines_cuisine_id, cuisines.zomato_id AS cuisines_zomato_id, cuisines.name AS cuisines_name, cuisines.date_created AS cuisines_date_created \n",
      "FROM cuisines \n",
      "WHERE cuisines.name = ?\n",
      "2021-01-22 16:15:24,131 INFO sqlalchemy.engine.base.Engine ('Beverages',)\n",
      "2021-01-22 16:15:24,133 INFO sqlalchemy.engine.base.Engine SELECT cuisines.cuisine_id AS cuisines_cuisine_id, cuisines.zomato_id AS cuisines_zomato_id, cuisines.name AS cuisines_name, cuisines.date_created AS cuisines_date_created \n",
      "FROM cuisines \n",
      "WHERE cuisines.name = ?\n",
      "2021-01-22 16:15:24,134 INFO sqlalchemy.engine.base.Engine ('Brazilian',)\n",
      "2021-01-22 16:15:24,135 INFO sqlalchemy.engine.base.Engine SELECT cuisines.cuisine_id AS cuisines_cuisine_id, cuisines.zomato_id AS cuisines_zomato_id, cuisines.name AS cuisines_name, cuisines.date_created AS cuisines_date_created \n",
      "FROM cuisines \n",
      "WHERE cuisines.name = ?\n"
     ]
    },
    {
     "name": "stdout",
     "output_type": "stream",
     "text": [
      "2021-01-22 16:15:24,137 INFO sqlalchemy.engine.base.Engine ('Breakfast',)\n",
      "2021-01-22 16:15:24,139 INFO sqlalchemy.engine.base.Engine SELECT cuisines.cuisine_id AS cuisines_cuisine_id, cuisines.zomato_id AS cuisines_zomato_id, cuisines.name AS cuisines_name, cuisines.date_created AS cuisines_date_created \n",
      "FROM cuisines \n",
      "WHERE cuisines.name = ?\n",
      "2021-01-22 16:15:24,140 INFO sqlalchemy.engine.base.Engine ('British',)\n",
      "2021-01-22 16:15:24,142 INFO sqlalchemy.engine.base.Engine SELECT cuisines.cuisine_id AS cuisines_cuisine_id, cuisines.zomato_id AS cuisines_zomato_id, cuisines.name AS cuisines_name, cuisines.date_created AS cuisines_date_created \n",
      "FROM cuisines \n",
      "WHERE cuisines.name = ?\n",
      "2021-01-22 16:15:24,143 INFO sqlalchemy.engine.base.Engine ('Bubble Tea',)\n",
      "2021-01-22 16:15:24,145 INFO sqlalchemy.engine.base.Engine SELECT cuisines.cuisine_id AS cuisines_cuisine_id, cuisines.zomato_id AS cuisines_zomato_id, cuisines.name AS cuisines_name, cuisines.date_created AS cuisines_date_created \n",
      "FROM cuisines \n",
      "WHERE cuisines.name = ?\n",
      "2021-01-22 16:15:24,147 INFO sqlalchemy.engine.base.Engine ('Afghan',)\n",
      "2021-01-22 16:15:24,150 INFO sqlalchemy.engine.base.Engine SELECT cuisines.cuisine_id AS cuisines_cuisine_id, cuisines.zomato_id AS cuisines_zomato_id, cuisines.name AS cuisines_name, cuisines.date_created AS cuisines_date_created \n",
      "FROM cuisines \n",
      "WHERE cuisines.name = ?\n",
      "2021-01-22 16:15:24,152 INFO sqlalchemy.engine.base.Engine ('African',)\n",
      "2021-01-22 16:15:24,154 INFO sqlalchemy.engine.base.Engine SELECT cuisines.cuisine_id AS cuisines_cuisine_id, cuisines.zomato_id AS cuisines_zomato_id, cuisines.name AS cuisines_name, cuisines.date_created AS cuisines_date_created \n",
      "FROM cuisines \n",
      "WHERE cuisines.name = ?\n",
      "2021-01-22 16:15:24,155 INFO sqlalchemy.engine.base.Engine ('American',)\n",
      "2021-01-22 16:15:24,157 INFO sqlalchemy.engine.base.Engine SELECT cuisines.cuisine_id AS cuisines_cuisine_id, cuisines.zomato_id AS cuisines_zomato_id, cuisines.name AS cuisines_name, cuisines.date_created AS cuisines_date_created \n",
      "FROM cuisines \n",
      "WHERE cuisines.name = ?\n",
      "2021-01-22 16:15:24,158 INFO sqlalchemy.engine.base.Engine ('Argentine',)\n",
      "2021-01-22 16:15:24,162 INFO sqlalchemy.engine.base.Engine SELECT cuisines.cuisine_id AS cuisines_cuisine_id, cuisines.zomato_id AS cuisines_zomato_id, cuisines.name AS cuisines_name, cuisines.date_created AS cuisines_date_created \n",
      "FROM cuisines \n",
      "WHERE cuisines.name = ?\n",
      "2021-01-22 16:15:24,164 INFO sqlalchemy.engine.base.Engine ('Armenian',)\n",
      "2021-01-22 16:15:24,166 INFO sqlalchemy.engine.base.Engine SELECT cuisines.cuisine_id AS cuisines_cuisine_id, cuisines.zomato_id AS cuisines_zomato_id, cuisines.name AS cuisines_name, cuisines.date_created AS cuisines_date_created \n",
      "FROM cuisines \n",
      "WHERE cuisines.name = ?\n",
      "2021-01-22 16:15:24,167 INFO sqlalchemy.engine.base.Engine ('Asian',)\n",
      "2021-01-22 16:15:24,169 INFO sqlalchemy.engine.base.Engine SELECT cuisines.cuisine_id AS cuisines_cuisine_id, cuisines.zomato_id AS cuisines_zomato_id, cuisines.name AS cuisines_name, cuisines.date_created AS cuisines_date_created \n",
      "FROM cuisines \n",
      "WHERE cuisines.name = ?\n",
      "2021-01-22 16:15:24,171 INFO sqlalchemy.engine.base.Engine ('Australian',)\n",
      "2021-01-22 16:15:24,173 INFO sqlalchemy.engine.base.Engine SELECT cuisines.cuisine_id AS cuisines_cuisine_id, cuisines.zomato_id AS cuisines_zomato_id, cuisines.name AS cuisines_name, cuisines.date_created AS cuisines_date_created \n",
      "FROM cuisines \n",
      "WHERE cuisines.name = ?\n",
      "2021-01-22 16:15:24,175 INFO sqlalchemy.engine.base.Engine ('Austrian',)\n",
      "2021-01-22 16:15:24,177 INFO sqlalchemy.engine.base.Engine SELECT cuisines.cuisine_id AS cuisines_cuisine_id, cuisines.zomato_id AS cuisines_zomato_id, cuisines.name AS cuisines_name, cuisines.date_created AS cuisines_date_created \n",
      "FROM cuisines \n",
      "WHERE cuisines.name = ?\n",
      "2021-01-22 16:15:24,179 INFO sqlalchemy.engine.base.Engine ('BBQ',)\n",
      "2021-01-22 16:15:24,180 INFO sqlalchemy.engine.base.Engine SELECT cuisines.cuisine_id AS cuisines_cuisine_id, cuisines.zomato_id AS cuisines_zomato_id, cuisines.name AS cuisines_name, cuisines.date_created AS cuisines_date_created \n",
      "FROM cuisines \n",
      "WHERE cuisines.name = ?\n",
      "2021-01-22 16:15:24,182 INFO sqlalchemy.engine.base.Engine ('Bagels',)\n",
      "2021-01-22 16:15:24,184 INFO sqlalchemy.engine.base.Engine SELECT cuisines.cuisine_id AS cuisines_cuisine_id, cuisines.zomato_id AS cuisines_zomato_id, cuisines.name AS cuisines_name, cuisines.date_created AS cuisines_date_created \n",
      "FROM cuisines \n",
      "WHERE cuisines.name = ?\n",
      "2021-01-22 16:15:24,185 INFO sqlalchemy.engine.base.Engine ('Bakery',)\n",
      "2021-01-22 16:15:24,187 INFO sqlalchemy.engine.base.Engine SELECT cuisines.cuisine_id AS cuisines_cuisine_id, cuisines.zomato_id AS cuisines_zomato_id, cuisines.name AS cuisines_name, cuisines.date_created AS cuisines_date_created \n",
      "FROM cuisines \n",
      "WHERE cuisines.name = ?\n",
      "2021-01-22 16:15:24,189 INFO sqlalchemy.engine.base.Engine ('Bar Food',)\n",
      "2021-01-22 16:15:24,191 INFO sqlalchemy.engine.base.Engine SELECT cuisines.cuisine_id AS cuisines_cuisine_id, cuisines.zomato_id AS cuisines_zomato_id, cuisines.name AS cuisines_name, cuisines.date_created AS cuisines_date_created \n",
      "FROM cuisines \n",
      "WHERE cuisines.name = ?\n",
      "2021-01-22 16:15:24,193 INFO sqlalchemy.engine.base.Engine ('Belgian',)\n",
      "2021-01-22 16:15:24,199 INFO sqlalchemy.engine.base.Engine SELECT cuisines.cuisine_id AS cuisines_cuisine_id, cuisines.zomato_id AS cuisines_zomato_id, cuisines.name AS cuisines_name, cuisines.date_created AS cuisines_date_created \n",
      "FROM cuisines \n",
      "WHERE cuisines.name = ?\n",
      "2021-01-22 16:15:24,201 INFO sqlalchemy.engine.base.Engine ('Beverages',)\n",
      "2021-01-22 16:15:24,203 INFO sqlalchemy.engine.base.Engine SELECT cuisines.cuisine_id AS cuisines_cuisine_id, cuisines.zomato_id AS cuisines_zomato_id, cuisines.name AS cuisines_name, cuisines.date_created AS cuisines_date_created \n",
      "FROM cuisines \n",
      "WHERE cuisines.name = ?\n",
      "2021-01-22 16:15:24,204 INFO sqlalchemy.engine.base.Engine ('Brazilian',)\n",
      "2021-01-22 16:15:24,208 INFO sqlalchemy.engine.base.Engine SELECT cuisines.cuisine_id AS cuisines_cuisine_id, cuisines.zomato_id AS cuisines_zomato_id, cuisines.name AS cuisines_name, cuisines.date_created AS cuisines_date_created \n",
      "FROM cuisines \n",
      "WHERE cuisines.name = ?\n",
      "2021-01-22 16:15:24,209 INFO sqlalchemy.engine.base.Engine ('Breakfast',)\n",
      "2021-01-22 16:15:24,211 INFO sqlalchemy.engine.base.Engine SELECT cuisines.cuisine_id AS cuisines_cuisine_id, cuisines.zomato_id AS cuisines_zomato_id, cuisines.name AS cuisines_name, cuisines.date_created AS cuisines_date_created \n",
      "FROM cuisines \n",
      "WHERE cuisines.name = ?\n",
      "2021-01-22 16:15:24,213 INFO sqlalchemy.engine.base.Engine ('British',)\n",
      "2021-01-22 16:15:24,216 INFO sqlalchemy.engine.base.Engine SELECT cuisines.cuisine_id AS cuisines_cuisine_id, cuisines.zomato_id AS cuisines_zomato_id, cuisines.name AS cuisines_name, cuisines.date_created AS cuisines_date_created \n",
      "FROM cuisines \n",
      "WHERE cuisines.name = ?\n",
      "2021-01-22 16:15:24,219 INFO sqlalchemy.engine.base.Engine ('Bubble Tea',)\n",
      "2021-01-22 16:15:24,222 INFO sqlalchemy.engine.base.Engine SELECT cuisines.cuisine_id AS cuisines_cuisine_id, cuisines.zomato_id AS cuisines_zomato_id, cuisines.name AS cuisines_name, cuisines.date_created AS cuisines_date_created \n",
      "FROM cuisines \n",
      "WHERE cuisines.name = ?\n",
      "2021-01-22 16:15:24,223 INFO sqlalchemy.engine.base.Engine ('Burger',)\n",
      "2021-01-22 16:15:24,226 INFO sqlalchemy.engine.base.Engine SELECT cuisines.cuisine_id AS cuisines_cuisine_id, cuisines.zomato_id AS cuisines_zomato_id, cuisines.name AS cuisines_name, cuisines.date_created AS cuisines_date_created \n",
      "FROM cuisines \n",
      "WHERE cuisines.name = ?\n",
      "2021-01-22 16:15:24,227 INFO sqlalchemy.engine.base.Engine ('Cafe',)\n"
     ]
    }
   ],
   "source": [
    "for name in distinct_names:\n",
    "    records = list(session.query(Cuisine).filter(Cuisine.name == name))\n",
    "    survivor = records[0]\n",
    "    dupes = records[1:]\n",
    "    for dupe in dupes:\n",
    "        session.delete(dupe)"
   ]
  },
  {
   "cell_type": "markdown",
   "metadata": {},
   "source": [
    "Let's find which ones start with \"A\""
   ]
  },
  {
   "cell_type": "code",
   "execution_count": 1,
   "metadata": {},
   "outputs": [
    {
     "ename": "NameError",
     "evalue": "name 'session' is not defined",
     "output_type": "error",
     "traceback": [
      "\u001b[0;31m---------------------------------------------------------------------------\u001b[0m",
      "\u001b[0;31mNameError\u001b[0m                                 Traceback (most recent call last)",
      "\u001b[0;32m<ipython-input-1-9bcba29d7d60>\u001b[0m in \u001b[0;36m<module>\u001b[0;34m\u001b[0m\n\u001b[0;32m----> 1\u001b[0;31m \u001b[0mlist\u001b[0m\u001b[0;34m(\u001b[0m\u001b[0msession\u001b[0m\u001b[0;34m.\u001b[0m\u001b[0mquery\u001b[0m\u001b[0;34m(\u001b[0m\u001b[0mCuisine\u001b[0m\u001b[0;34m)\u001b[0m\u001b[0;34m.\u001b[0m\u001b[0mfilter\u001b[0m\u001b[0;34m(\u001b[0m\u001b[0mCuisine\u001b[0m\u001b[0;34m.\u001b[0m\u001b[0mname\u001b[0m\u001b[0;34m.\u001b[0m\u001b[0min_\u001b[0m\u001b[0;34m(\u001b[0m\u001b[0;34m[\u001b[0m\u001b[0;34m'Asian'\u001b[0m\u001b[0;34m,\u001b[0m \u001b[0;34m'Italian'\u001b[0m\u001b[0;34m]\u001b[0m\u001b[0;34m)\u001b[0m\u001b[0;34m)\u001b[0m\u001b[0;34m)\u001b[0m\u001b[0;34m\u001b[0m\u001b[0;34m\u001b[0m\u001b[0m\n\u001b[0m",
      "\u001b[0;31mNameError\u001b[0m: name 'session' is not defined"
     ]
    }
   ],
   "source": [
    "list(session.query(Cuisine).filter(Cuisine.name.in_(['Asian', 'Italian'])))"
   ]
  },
  {
   "cell_type": "markdown",
   "metadata": {},
   "source": [
    "Get the records for Asian, Chinese, and Italian"
   ]
  },
  {
   "cell_type": "code",
   "execution_count": null,
   "metadata": {},
   "outputs": [],
   "source": []
  },
  {
   "cell_type": "markdown",
   "metadata": {},
   "source": [
    "## Mini-Lab 1: Recommendations & Reviews\n",
    "Let's build a recommendation engine for users.\n",
    "\n",
    "### Step 1: Pull in restaurants from Zomato\n",
    "For Boston and New York."
   ]
  },
  {
   "cell_type": "code",
   "execution_count": null,
   "metadata": {},
   "outputs": [],
   "source": []
  },
  {
   "cell_type": "markdown",
   "metadata": {},
   "source": [
    "### Step 2: Table Creation\n",
    "There are three new tables we need to create\n",
    "\n",
    "- Restaurant (with the relevant fields)\n",
    "- User (with username and user_id)\n",
    "- UserCuisine (to store user's cuisine preferences)\n",
    "- Recommendations (which links to restaurant and user)"
   ]
  },
  {
   "cell_type": "code",
   "execution_count": null,
   "metadata": {},
   "outputs": [],
   "source": []
  },
  {
   "cell_type": "markdown",
   "metadata": {},
   "source": [
    "### Step 3: Create_User\n",
    "Create a helper function that creates a user and also adds UserCuisine preferences\n",
    "\n",
    "```python\n",
    ">>> create_user(username='alberto', preferences['Italian', 'Chinese'], city='Boston')\n",
    "```"
   ]
  },
  {
   "cell_type": "code",
   "execution_count": null,
   "metadata": {},
   "outputs": [],
   "source": []
  },
  {
   "cell_type": "markdown",
   "metadata": {},
   "source": [
    "### Step 4: Simple matchmaking algo\n",
    "Pick 5 random restaurants that match their preferences and save to the database."
   ]
  },
  {
   "cell_type": "code",
   "execution_count": null,
   "metadata": {},
   "outputs": [],
   "source": []
  },
  {
   "cell_type": "markdown",
   "metadata": {},
   "source": [
    "### (Optional) Step 5: Don't repeat the last 3 recommendations\n",
    "Need to query the DB in the algo."
   ]
  },
  {
   "cell_type": "code",
   "execution_count": null,
   "metadata": {},
   "outputs": [],
   "source": []
  },
  {
   "cell_type": "markdown",
   "metadata": {},
   "source": [
    "### Step 6: Intro to Mongo and reviews"
   ]
  },
  {
   "cell_type": "code",
   "execution_count": null,
   "metadata": {},
   "outputs": [],
   "source": []
  },
  {
   "cell_type": "code",
   "execution_count": null,
   "metadata": {},
   "outputs": [],
   "source": []
  }
 ],
 "metadata": {
  "kernelspec": {
   "display_name": "Python 3",
   "language": "python",
   "name": "python3"
  },
  "language_info": {
   "codemirror_mode": {
    "name": "ipython",
    "version": 3
   },
   "file_extension": ".py",
   "mimetype": "text/x-python",
   "name": "python",
   "nbconvert_exporter": "python",
   "pygments_lexer": "ipython3",
   "version": "3.8.5"
  }
 },
 "nbformat": 4,
 "nbformat_minor": 4
}
