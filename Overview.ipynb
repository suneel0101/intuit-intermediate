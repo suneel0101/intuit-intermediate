{
 "cells": [
  {
   "cell_type": "markdown",
   "metadata": {},
   "source": [
    "# Objective\n",
    "The Intermediate Python training course is a continuation of the Introduction to Python training course. Intermediate Python begins with a quick review of core Python concepts, then transitions into an in-depth look into advanced Python concepts, syntax and libraries. "
   ]
  },
  {
   "cell_type": "markdown",
   "metadata": {},
   "source": [
    "# Agenda\n",
    "## Day 1\n",
    "1. (100) Review of Python\n",
    "2. (60) OOP\n",
    "3. (60) Metaclasses\n",
    "4. (30) Descriptors\n",
    "5. (30) Iterators\n",
    "6. (60) Generators\n",
    "7. (60) Decorators\n",
    "8. Lab\n",
    "\n",
    "## Day 2\n",
    "1. Context Managers   \n",
    "2. Testing\n",
    "3. Debugging\n",
    "4. Multi-threading\n",
    "5. Celery\n",
    "6. Requests, API, and Flask\n",
    "7. Lab\n",
    "\n",
    "## Day 3\n",
    "1. Overview of ML\n",
    "2. Intro to Pandas\n",
    "3. More Advanced Pandas\n",
    "4. Intro to Data Visualization\n",
    "5. Intro to modeling: kNN, Naives Bayes and RandomForest\n",
    "6. Modeling with Sci-kit learn\n",
    "7. Model tuning\n",
    "8. Lab"
   ]
  },
  {
   "cell_type": "code",
   "execution_count": null,
   "metadata": {},
   "outputs": [],
   "source": []
  }
 ],
 "metadata": {
  "kernelspec": {
   "display_name": "Python 3",
   "language": "python",
   "name": "python3"
  },
  "language_info": {
   "codemirror_mode": {
    "name": "ipython",
    "version": 3
   },
   "file_extension": ".py",
   "mimetype": "text/x-python",
   "name": "python",
   "nbconvert_exporter": "python",
   "pygments_lexer": "ipython3",
   "version": "3.8.5"
  }
 },
 "nbformat": 4,
 "nbformat_minor": 4
}
