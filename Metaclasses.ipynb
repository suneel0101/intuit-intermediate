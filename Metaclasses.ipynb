{
 "cells": [
  {
   "cell_type": "markdown",
   "metadata": {},
   "source": [
    "# Module: Metaclasses\n",
    "\n",
    "1. Dynamically creating classes with `type`\n",
    "2. What is `__new__`?\n",
    "3. A basic metaclass example\n",
    "4. Use Case 1: Validation\n",
    "5. `__call__` and `__new__`\n",
    "6. Use Case 2: Singleton\n",
    "7. Lab: Registry"
   ]
  },
  {
   "cell_type": "markdown",
   "metadata": {},
   "source": [
    "## Dynamically creating classes with `type`"
   ]
  },
  {
   "cell_type": "markdown",
   "metadata": {},
   "source": [
    "### Let's investigate `type`"
   ]
  },
  {
   "cell_type": "code",
   "execution_count": 1,
   "metadata": {},
   "outputs": [
    {
     "data": {
      "text/plain": [
       "int"
      ]
     },
     "execution_count": 1,
     "metadata": {},
     "output_type": "execute_result"
    }
   ],
   "source": [
    "type(3)"
   ]
  },
  {
   "cell_type": "markdown",
   "metadata": {},
   "source": [
    "Check `type` of string, dictionary, and even `type` itself."
   ]
  },
  {
   "cell_type": "code",
   "execution_count": 2,
   "metadata": {},
   "outputs": [
    {
     "data": {
      "text/plain": [
       "str"
      ]
     },
     "execution_count": 2,
     "metadata": {},
     "output_type": "execute_result"
    }
   ],
   "source": [
    "type(\"Hello\")"
   ]
  },
  {
   "cell_type": "code",
   "execution_count": 3,
   "metadata": {},
   "outputs": [
    {
     "data": {
      "text/plain": [
       "type"
      ]
     },
     "execution_count": 3,
     "metadata": {},
     "output_type": "execute_result"
    }
   ],
   "source": [
    "type(type)"
   ]
  },
  {
   "cell_type": "markdown",
   "metadata": {},
   "source": [
    "- `type` is a metaclass that creates classes.\n",
    "- can be used to dynamically create classes"
   ]
  },
  {
   "cell_type": "code",
   "execution_count": 5,
   "metadata": {},
   "outputs": [],
   "source": [
    "Car = type('Car', (), {})"
   ]
  },
  {
   "cell_type": "markdown",
   "metadata": {},
   "source": [
    "### What are the arguments?\n",
    "`type(<name>, <bases>, <dct>`\n",
    "\n",
    "- <name> specifies the class name. This becomes the __name__ attribute of the class.\n",
    "- <bases> specifies a tuple of the base classes from which the class inherits. This becomes the __bases__ attribute of the class.\n",
    "- <dct> specifies a namespace dictionary containing definitions for the class body. This becomes the __dict__ attribute of the class.\n",
    "    \n",
    "(realpython.com)"
   ]
  },
  {
   "cell_type": "code",
   "execution_count": 6,
   "metadata": {},
   "outputs": [],
   "source": [
    "SUV = type('SUV', (Car,), dict(doors=4))"
   ]
  },
  {
   "cell_type": "code",
   "execution_count": 11,
   "metadata": {},
   "outputs": [
    {
     "data": {
      "text/plain": [
       "4"
      ]
     },
     "execution_count": 11,
     "metadata": {},
     "output_type": "execute_result"
    }
   ],
   "source": []
  },
  {
   "cell_type": "code",
   "execution_count": null,
   "metadata": {},
   "outputs": [],
   "source": []
  },
  {
   "cell_type": "markdown",
   "metadata": {},
   "source": [
    "```python\n",
    "class Car():\n",
    "    blah = True\n",
    "\n",
    "class SUV(Car):\n",
    "    doors = 4\n",
    "```"
   ]
  },
  {
   "cell_type": "markdown",
   "metadata": {},
   "source": [
    "Let's instantiate an `SUV` and introspect `__class__` and `__class__.__bases__` and check the class attribute."
   ]
  },
  {
   "cell_type": "code",
   "execution_count": null,
   "metadata": {},
   "outputs": [],
   "source": []
  },
  {
   "cell_type": "code",
   "execution_count": null,
   "metadata": {},
   "outputs": [],
   "source": []
  },
  {
   "cell_type": "markdown",
   "metadata": {},
   "source": [
    "### Let's add more to the class namespace."
   ]
  },
  {
   "cell_type": "code",
   "execution_count": 1,
   "metadata": {},
   "outputs": [],
   "source": [
    "EBayScraper = type('EBayScraper', (), {'domain': 'ebay.com', 'get_full_url': lambda x : 'https://{}'.format(x.domain)})"
   ]
  },
  {
   "cell_type": "markdown",
   "metadata": {},
   "source": [
    "### Exercise\n",
    "- Instantiate an `EBayScraper` and call `get_full_url`.\n",
    "- Check the bases and namespace."
   ]
  },
  {
   "cell_type": "code",
   "execution_count": null,
   "metadata": {},
   "outputs": [],
   "source": []
  },
  {
   "cell_type": "markdown",
   "metadata": {},
   "source": [
    "## What is `__new__`?"
   ]
  },
  {
   "cell_type": "code",
   "execution_count": 2,
   "metadata": {},
   "outputs": [],
   "source": [
    "class FooMeta(type):\n",
    "    def __new__(cls, name, bases, dct):\n",
    "        print(\"In __new__\")\n",
    "        return super().__new__(cls, name, bases, dct)\n"
   ]
  },
  {
   "cell_type": "markdown",
   "metadata": {},
   "source": [
    "**Discuss**: Why `cls` and not `self`? Does it matter?"
   ]
  },
  {
   "cell_type": "markdown",
   "metadata": {},
   "source": [
    "Execute the following class."
   ]
  },
  {
   "cell_type": "code",
   "execution_count": 5,
   "metadata": {},
   "outputs": [],
   "source": [
    "class Foo(metaclass=FooMeta):\n",
    "    def __init__(self):\n",
    "        print(\"In __init__\")"
   ]
  },
  {
   "cell_type": "markdown",
   "metadata": {},
   "source": [
    "Now instantiate."
   ]
  },
  {
   "cell_type": "code",
   "execution_count": 3,
   "metadata": {},
   "outputs": [],
   "source": [
    "Foo()"
   ]
  },
  {
   "cell_type": "markdown",
   "metadata": {},
   "source": [
    "What is a metaclass?"
   ]
  },
  {
   "cell_type": "markdown",
   "metadata": {},
   "source": [
    "## A basic metaclass example"
   ]
  },
  {
   "cell_type": "code",
   "execution_count": 33,
   "metadata": {},
   "outputs": [],
   "source": [
    "class CoolMeta(type):\n",
    "    def __new__(cls, name, bases, dct):\n",
    "        x = super().__new__(cls, name, bases, dct)\n",
    "        x.some_val = 225\n",
    "        return x"
   ]
  },
  {
   "cell_type": "code",
   "execution_count": 35,
   "metadata": {},
   "outputs": [],
   "source": [
    "class OtherClass(metaclass=CoolMeta):\n",
    "    pass"
   ]
  },
  {
   "cell_type": "code",
   "execution_count": 6,
   "metadata": {},
   "outputs": [],
   "source": [
    "OtherClass.some_val"
   ]
  },
  {
   "cell_type": "markdown",
   "metadata": {},
   "source": [
    "What does this do?"
   ]
  },
  {
   "cell_type": "markdown",
   "metadata": {},
   "source": [
    "## Use Case 1: Validation\n",
    "Let's also take this opportunity to get famliar with the [`requests`](https://requests.readthedocs.io/en/master/) library."
   ]
  },
  {
   "cell_type": "code",
   "execution_count": 38,
   "metadata": {},
   "outputs": [],
   "source": [
    "import requests\n",
    "res = requests.get('https://news.ycombinator.com/')"
   ]
  },
  {
   "cell_type": "code",
   "execution_count": 40,
   "metadata": {},
   "outputs": [
    {
     "data": {
      "text/plain": [
       "b'<html lang=\"en\" op=\"news\"><head><meta name=\"referrer\" content=\"origin\"><meta name=\"viewport\" content=\"width=device-width, initial-scale=1.0\"><link rel=\"stylesheet\" type=\"text/css\" href=\"news.css?OnNWsJiz21LfZewvRRkg\">\\n        <link rel=\"shortcut icon\" href=\"favicon.ico\">\\n          <link rel=\"alternate\" type=\"application/rss+xml\" title=\"RSS\" href=\"rss\">\\n        <title>Hacker News</title></head><body><center><table id=\"hnmain\" border=\"0\" cellpadding=\"0\" cellspacing=\"0\" width=\"85%\" bgcolor=\"#f6f6ef\">\\n        <tr><td bgcolor=\"#ff6600\"><table border=\"0\" cellpadding=\"0\" cellspacing=\"0\" width=\"100%\" style=\"padding:2px\"><tr><td style=\"width:18px;padding-right:4px\"><a href=\"https://news.ycombinator.com\"><img src=\"y18.gif\" width=\"18\" height=\"18\" style=\"border:1px white solid;\"></a></td>\\n                  <td style=\"line-height:12pt; height:10px;\"><span class=\"pagetop\"><b class=\"hnname\"><a href=\"news\">Hacker News</a></b>\\n              <a href=\"newest\">new</a> | <a href=\"front\">past</a> | <a href=\"newcomments\">comments</a> | <a href=\"ask\">ask</a> | <a href=\"show\">show</a> | <a href=\"jobs\">jobs</a> | <a href=\"submit\">submit</a>            </span></td><td style=\"text-align:right;padding-right:4px;\"><span class=\"pagetop\">\\n                              <a href=\"login?goto=news\">login</a>\\n                          </span></td>\\n              </tr></table></td></tr>\\n<tr id=\"pagespace\" title=\"\" style=\"height:10px\"></tr><tr><td><table border=\"0\" cellpadding=\"0\" cellspacing=\"0\" class=\"itemlist\">\\n              <tr class=\\'athing\\' id=\\'25846504\\'>\\n      <td align=\"right\" valign=\"top\" class=\"title\"><span class=\"rank\">1.</span></td>      <td valign=\"top\" class=\"votelinks\"><center><a id=\\'up_25846504\\' href=\\'vote?id=25846504&amp;how=up&amp;goto=news\\'><div class=\\'votearrow\\' title=\\'upvote\\'></div></a></center></td><td class=\"title\"><a href=\"https://dafoster.net/articles/2021/01/20/i-no-longer-trust-the-great-suspender/\" class=\"storylink\">I no longer trust The Great Suspender</a><span class=\"sitebit comhead\"> (<a href=\"from?site=dafoster.net\"><span class=\"sitestr\">dafoster.net</span></a>)</span></td></tr><tr><td colspan=\"2\"></td><td class=\"subtext\">\\n        <span class=\"score\" id=\"score_25846504\">302 points</span> by <a href=\"user?id=davidfstr\" class=\"hnuser\">davidfstr</a> <span class=\"age\"><a href=\"item?id=25846504\">2 hours ago</a></span> <span id=\"unv_25846504\"></span> | <a href=\"hide?id=25846504&amp;goto=news\">hide</a> | <a href=\"item?id=25846504\">113&nbsp;comments</a>              </td></tr>\\n      <tr class=\"spacer\" style=\"height:5px\"></tr>\\n                <tr class=\\'athing\\' id=\\'25846347\\'>\\n      <td align=\"right\" valign=\"top\" class=\"title\"><span class=\"rank\">2.</span></td>      <td valign=\"top\" class=\"votelinks\"><center><a id=\\'up_25846347\\' href=\\'vote?id=25846347&amp;how=up&amp;goto=news\\'><div class=\\'votearrow\\' title=\\'upvote\\'></div></a></center></td><td class=\"title\"><a href=\"https://www.vim.so\" class=\"storylink\">Show HN: I built an online interactive course that helps you learn vim faster</a><span class=\"sitebit comhead\"> (<a href=\"from?site=vim.so\"><span class=\"sitestr\">vim.so</span></a>)</span></td></tr><tr><td colspan=\"2\"></td><td class=\"subtext\">\\n        <span class=\"score\" id=\"score_25846347\">194 points</span> by <a href=\"user?id=CoffeePython\" class=\"hnuser\">CoffeePython</a> <span class=\"age\"><a href=\"item?id=25846347\">2 hours ago</a></span> <span id=\"unv_25846347\"></span> | <a href=\"hide?id=25846347&amp;goto=news\">hide</a> | <a href=\"item?id=25846347\">96&nbsp;comments</a>              </td></tr>\\n      <tr class=\"spacer\" style=\"height:5px\"></tr>\\n                <tr class=\\'athing\\' id=\\'25844959\\'>\\n      <td align=\"right\" valign=\"top\" class=\"title\"><span class=\"rank\">3.</span></td>      <td valign=\"top\" class=\"votelinks\"><center><a id=\\'up_25844959\\' href=\\'vote?id=25844959&amp;how=up&amp;goto=news\\'><div class=\\'votearrow\\' title=\\'upvote\\'></div></a></center></td><td class=\"title\"><a href=\"https://www.eenewseurope.com/news/intel-TSMC-5nm\" class=\"storylink\">Intel outsources Core i3 to TSMC\\'s 5nm process</a><span class=\"sitebit comhead\"> (<a href=\"from?site=eenewseurope.com\"><span class=\"sitestr\">eenewseurope.com</span></a>)</span></td></tr><tr><td colspan=\"2\"></td><td class=\"subtext\">\\n        <span class=\"score\" id=\"score_25844959\">329 points</span> by <a href=\"user?id=djoldman\" class=\"hnuser\">djoldman</a> <span class=\"age\"><a href=\"item?id=25844959\">5 hours ago</a></span> <span id=\"unv_25844959\"></span> | <a href=\"hide?id=25844959&amp;goto=news\">hide</a> | <a href=\"item?id=25844959\">172&nbsp;comments</a>              </td></tr>\\n      <tr class=\"spacer\" style=\"height:5px\"></tr>\\n                <tr class=\\'athing\\' id=\\'25846968\\'>\\n      <td align=\"right\" valign=\"top\" class=\"title\"><span class=\"rank\">4.</span></td>      <td valign=\"top\" class=\"votelinks\"><center><a id=\\'up_25846968\\' href=\\'vote?id=25846968&amp;how=up&amp;goto=news\\'><div class=\\'votearrow\\' title=\\'upvote\\'></div></a></center></td><td class=\"title\"><a href=\"https://www.newyorker.com/magazine/2021/01/25/have-we-already-been-visited-by-aliens\" class=\"storylink\">Have We Already Been Visited by Aliens?</a><span class=\"sitebit comhead\"> (<a href=\"from?site=newyorker.com\"><span class=\"sitestr\">newyorker.com</span></a>)</span></td></tr><tr><td colspan=\"2\"></td><td class=\"subtext\">\\n        <span class=\"score\" id=\"score_25846968\">52 points</span> by <a href=\"user?id=elorant\" class=\"hnuser\">elorant</a> <span class=\"age\"><a href=\"item?id=25846968\">1 hour ago</a></span> <span id=\"unv_25846968\"></span> | <a href=\"hide?id=25846968&amp;goto=news\">hide</a> | <a href=\"item?id=25846968\">33&nbsp;comments</a>              </td></tr>\\n      <tr class=\"spacer\" style=\"height:5px\"></tr>\\n                <tr class=\\'athing\\' id=\\'25843874\\'>\\n      <td align=\"right\" valign=\"top\" class=\"title\"><span class=\"rank\">5.</span></td>      <td valign=\"top\" class=\"votelinks\"><center><a id=\\'up_25843874\\' href=\\'vote?id=25843874&amp;how=up&amp;goto=news\\'><div class=\\'votearrow\\' title=\\'upvote\\'></div></a></center></td><td class=\"title\"><a href=\"https://github.com/linuxmint/cinnamon-screensaver/issues/354\" class=\"storylink\">Kids find a security flaw in Linux Mint by mashing keys</a><span class=\"sitebit comhead\"> (<a href=\"from?site=github.com/linuxmint\"><span class=\"sitestr\">github.com/linuxmint</span></a>)</span></td></tr><tr><td colspan=\"2\"></td><td class=\"subtext\">\\n        <span class=\"score\" id=\"score_25843874\">500 points</span> by <a href=\"user?id=subins2000\" class=\"hnuser\">subins2000</a> <span class=\"age\"><a href=\"item?id=25843874\">8 hours ago</a></span> <span id=\"unv_25843874\"></span> | <a href=\"hide?id=25843874&amp;goto=news\">hide</a> | <a href=\"item?id=25843874\">215&nbsp;comments</a>              </td></tr>\\n      <tr class=\"spacer\" style=\"height:5px\"></tr>\\n                <tr class=\\'athing\\' id=\\'25848204\\'>\\n      <td align=\"right\" valign=\"top\" class=\"title\"><span class=\"rank\">6.</span></td>      <td valign=\"top\" class=\"votelinks\"><center><a id=\\'up_25848204\\' href=\\'vote?id=25848204&amp;how=up&amp;goto=news\\'><div class=\\'votearrow\\' title=\\'upvote\\'></div></a></center></td><td class=\"title\"><a href=\"https://github.com/treenotation/dumbdown\" class=\"storylink\">Show HN: Dumbdown \\xe2\\x80\\x93 The Dumb Alternative to Markdown</a><span class=\"sitebit comhead\"> (<a href=\"from?site=github.com/treenotation\"><span class=\"sitestr\">github.com/treenotation</span></a>)</span></td></tr><tr><td colspan=\"2\"></td><td class=\"subtext\">\\n        <span class=\"score\" id=\"score_25848204\">8 points</span> by <a href=\"user?id=breck\" class=\"hnuser\">breck</a> <span class=\"age\"><a href=\"item?id=25848204\">23 minutes ago</a></span> <span id=\"unv_25848204\"></span> | <a href=\"hide?id=25848204&amp;goto=news\">hide</a> | <a href=\"item?id=25848204\">7&nbsp;comments</a>              </td></tr>\\n      <tr class=\"spacer\" style=\"height:5px\"></tr>\\n                <tr class=\\'athing\\' id=\\'25846480\\'>\\n      <td align=\"right\" valign=\"top\" class=\"title\"><span class=\"rank\">7.</span></td>      <td valign=\"top\" class=\"votelinks\"><center><a id=\\'up_25846480\\' href=\\'vote?id=25846480&amp;how=up&amp;goto=news\\'><div class=\\'votearrow\\' title=\\'upvote\\'></div></a></center></td><td class=\"title\"><a href=\"https://www.cbc.ca/radio/asithappens/as-it-happens-wednesday-edition-1.5871385/bison-rangers-wanted-to-oversee-u-k-herd-no-bison-experience-necessary-1.5871386\" class=\"storylink\">Bison rangers wanted to oversee U.K. herd \\xe2\\x80\\x93 no bison experience necessary</a><span class=\"sitebit comhead\"> (<a href=\"from?site=cbc.ca\"><span class=\"sitestr\">cbc.ca</span></a>)</span></td></tr><tr><td colspan=\"2\"></td><td class=\"subtext\">\\n        <span class=\"score\" id=\"score_25846480\">63 points</span> by <a href=\"user?id=BayAreaEscapee\" class=\"hnuser\">BayAreaEscapee</a> <span class=\"age\"><a href=\"item?id=25846480\">2 hours ago</a></span> <span id=\"unv_25846480\"></span> | <a href=\"hide?id=25846480&amp;goto=news\">hide</a> | <a href=\"item?id=25846480\">33&nbsp;comments</a>              </td></tr>\\n      <tr class=\"spacer\" style=\"height:5px\"></tr>\\n                <tr class=\\'athing\\' id=\\'25847871\\'>\\n      <td align=\"right\" valign=\"top\" class=\"title\"><span class=\"rank\">8.</span></td>      <td valign=\"top\" class=\"votelinks\"><center><a id=\\'up_25847871\\' href=\\'vote?id=25847871&amp;how=up&amp;goto=news\\'><div class=\\'votearrow\\' title=\\'upvote\\'></div></a></center></td><td class=\"title\"><a href=\"https://chatmosphere.cc/\" class=\"storylink\">Chatmosphere</a><span class=\"sitebit comhead\"> (<a href=\"from?site=chatmosphere.cc\"><span class=\"sitestr\">chatmosphere.cc</span></a>)</span></td></tr><tr><td colspan=\"2\"></td><td class=\"subtext\">\\n        <span class=\"score\" id=\"score_25847871\">19 points</span> by <a href=\"user?id=tosh\" class=\"hnuser\">tosh</a> <span class=\"age\"><a href=\"item?id=25847871\">47 minutes ago</a></span> <span id=\"unv_25847871\"></span> | <a href=\"hide?id=25847871&amp;goto=news\">hide</a> | <a href=\"item?id=25847871\">3&nbsp;comments</a>              </td></tr>\\n      <tr class=\"spacer\" style=\"height:5px\"></tr>\\n                <tr class=\\'athing\\' id=\\'25842999\\'>\\n      <td align=\"right\" valign=\"top\" class=\"title\"><span class=\"rank\">9.</span></td>      <td valign=\"top\" class=\"votelinks\"><center><a id=\\'up_25842999\\' href=\\'vote?id=25842999&amp;how=up&amp;goto=news\\'><div class=\\'votearrow\\' title=\\'upvote\\'></div></a></center></td><td class=\"title\"><a href=\"https://sql.lspgn.workers.dev/?hn\" class=\"storylink\">Serverless SQLite</a><span class=\"sitebit comhead\"> (<a href=\"from?site=workers.dev\"><span class=\"sitestr\">workers.dev</span></a>)</span></td></tr><tr><td colspan=\"2\"></td><td class=\"subtext\">\\n        <span class=\"score\" id=\"score_25842999\">292 points</span> by <a href=\"user?id=sfeng\" class=\"hnuser\">sfeng</a> <span class=\"age\"><a href=\"item?id=25842999\">10 hours ago</a></span> <span id=\"unv_25842999\"></span> | <a href=\"hide?id=25842999&amp;goto=news\">hide</a> | <a href=\"item?id=25842999\">135&nbsp;comments</a>              </td></tr>\\n      <tr class=\"spacer\" style=\"height:5px\"></tr>\\n                <tr class=\\'athing\\' id=\\'25848349\\'>\\n      <td align=\"right\" valign=\"top\" class=\"title\"><span class=\"rank\">10.</span></td>      <td valign=\"top\" class=\"votelinks\"><center><a id=\\'up_25848349\\' href=\\'vote?id=25848349&amp;how=up&amp;goto=news\\'><div class=\\'votearrow\\' title=\\'upvote\\'></div></a></center></td><td class=\"title\"><a href=\"https://fusionauth.io/blog/2021/01/20/why-outsource-auth/\" class=\"storylink\" rel=\"nofollow\">Why outsource your auth system?</a><span class=\"sitebit comhead\"> (<a href=\"from?site=fusionauth.io\"><span class=\"sitestr\">fusionauth.io</span></a>)</span></td></tr><tr><td colspan=\"2\"></td><td class=\"subtext\">\\n        <span class=\"score\" id=\"score_25848349\">5 points</span> by <a href=\"user?id=mooreds\" class=\"hnuser\">mooreds</a> <span class=\"age\"><a href=\"item?id=25848349\">11 minutes ago</a></span> <span id=\"unv_25848349\"></span> | <a href=\"hide?id=25848349&amp;goto=news\">hide</a> | <a href=\"item?id=25848349\">1&nbsp;comment</a>              </td></tr>\\n      <tr class=\"spacer\" style=\"height:5px\"></tr>\\n                <tr class=\\'athing\\' id=\\'25846391\\'>\\n      <td align=\"right\" valign=\"top\" class=\"title\"><span class=\"rank\">11.</span></td>      <td valign=\"top\" class=\"votelinks\"><center><a id=\\'up_25846391\\' href=\\'vote?id=25846391&amp;how=up&amp;goto=news\\'><div class=\\'votearrow\\' title=\\'upvote\\'></div></a></center></td><td class=\"title\"><a href=\"https://www.redhat.com/en/blog/new-year-new-red-hat-enterprise-linux-programs-easier-ways-access-rhel\" class=\"storylink\">New Year, New Red Hat Enterprise Linux Programs: Easier Ways to Access RHEL</a><span class=\"sitebit comhead\"> (<a href=\"from?site=redhat.com\"><span class=\"sitestr\">redhat.com</span></a>)</span></td></tr><tr><td colspan=\"2\"></td><td class=\"subtext\">\\n        <span class=\"score\" id=\"score_25846391\">23 points</span> by <a href=\"user?id=IceWreck\" class=\"hnuser\">IceWreck</a> <span class=\"age\"><a href=\"item?id=25846391\">2 hours ago</a></span> <span id=\"unv_25846391\"></span> | <a href=\"hide?id=25846391&amp;goto=news\">hide</a> | <a href=\"item?id=25846391\">8&nbsp;comments</a>              </td></tr>\\n      <tr class=\"spacer\" style=\"height:5px\"></tr>\\n                <tr class=\\'athing\\' id=\\'25843040\\'>\\n      <td align=\"right\" valign=\"top\" class=\"title\"><span class=\"rank\">12.</span></td>      <td valign=\"top\" class=\"votelinks\"><center><a id=\\'up_25843040\\' href=\\'vote?id=25843040&amp;how=up&amp;goto=news\\'><div class=\\'votearrow\\' title=\\'upvote\\'></div></a></center></td><td class=\"title\"><a href=\"https://www.whitehouse.gov/briefings-statements/statement-press-secretary-regarding-executive-grants-clemency-012021/\" class=\"storylink\">Anthony Levandowski Pardoned</a><span class=\"sitebit comhead\"> (<a href=\"from?site=whitehouse.gov\"><span class=\"sitestr\">whitehouse.gov</span></a>)</span></td></tr><tr><td colspan=\"2\"></td><td class=\"subtext\">\\n        <span class=\"score\" id=\"score_25843040\">393 points</span> by <a href=\"user?id=aresant\" class=\"hnuser\">aresant</a> <span class=\"age\"><a href=\"item?id=25843040\">10 hours ago</a></span> <span id=\"unv_25843040\"></span> | <a href=\"hide?id=25843040&amp;goto=news\">hide</a> | <a href=\"item?id=25843040\">525&nbsp;comments</a>              </td></tr>\\n      <tr class=\"spacer\" style=\"height:5px\"></tr>\\n                <tr class=\\'athing\\' id=\\'25846394\\'>\\n      <td align=\"right\" valign=\"top\" class=\"title\"><span class=\"rank\">13.</span></td>      <td valign=\"top\" class=\"votelinks\"><center><a id=\\'up_25846394\\' href=\\'vote?id=25846394&amp;how=up&amp;goto=news\\'><div class=\\'votearrow\\' title=\\'upvote\\'></div></a></center></td><td class=\"title\"><a href=\"https://techcrunch.com/2021/01/19/india-asks-whatsapp-to-withdraw-new-privacy-policy-expresses-grave-concerns/\" class=\"storylink\">India asks WhatsApp to withdraw new privacy policy over \\xe2\\x80\\x98grave concerns\\xe2\\x80\\x99</a><span class=\"sitebit comhead\"> (<a href=\"from?site=techcrunch.com\"><span class=\"sitestr\">techcrunch.com</span></a>)</span></td></tr><tr><td colspan=\"2\"></td><td class=\"subtext\">\\n        <span class=\"score\" id=\"score_25846394\">88 points</span> by <a href=\"user?id=totaldude87\" class=\"hnuser\">totaldude87</a> <span class=\"age\"><a href=\"item?id=25846394\">2 hours ago</a></span> <span id=\"unv_25846394\"></span> | <a href=\"hide?id=25846394&amp;goto=news\">hide</a> | <a href=\"item?id=25846394\">22&nbsp;comments</a>              </td></tr>\\n      <tr class=\"spacer\" style=\"height:5px\"></tr>\\n                <tr class=\\'athing\\' id=\\'25847062\\'>\\n      <td align=\"right\" valign=\"top\" class=\"title\"><span class=\"rank\">14.</span></td>      <td valign=\"top\" class=\"votelinks\"><center><a id=\\'up_25847062\\' href=\\'vote?id=25847062&amp;how=up&amp;goto=news\\'><div class=\\'votearrow\\' title=\\'upvote\\'></div></a></center></td><td class=\"title\"><a href=\"https://aeon.co/essays/for-hannah-arendt-totalitarianism-is-rooted-in-loneliness\" class=\"storylink\">For Hannah Arendt, totalitarianism is rooted in loneliness</a><span class=\"sitebit comhead\"> (<a href=\"from?site=aeon.co\"><span class=\"sitestr\">aeon.co</span></a>)</span></td></tr><tr><td colspan=\"2\"></td><td class=\"subtext\">\\n        <span class=\"score\" id=\"score_25847062\">58 points</span> by <a href=\"user?id=ALee\" class=\"hnuser\">ALee</a> <span class=\"age\"><a href=\"item?id=25847062\">1 hour ago</a></span> <span id=\"unv_25847062\"></span> | <a href=\"hide?id=25847062&amp;goto=news\">hide</a> | <a href=\"item?id=25847062\">17&nbsp;comments</a>              </td></tr>\\n      <tr class=\"spacer\" style=\"height:5px\"></tr>\\n                <tr class=\\'athing\\' id=\\'25845374\\'>\\n      <td align=\"right\" valign=\"top\" class=\"title\"><span class=\"rank\">15.</span></td>      <td></td><td class=\"title\"><a href=\"https://www.workatastartup.com/jobs/41609\" class=\"storylink\" rel=\"nofollow\">Odeko (YC S19) Is Hiring</a><span class=\"sitebit comhead\"> (<a href=\"from?site=workatastartup.com\"><span class=\"sitestr\">workatastartup.com</span></a>)</span></td></tr><tr><td colspan=\"2\"></td><td class=\"subtext\">\\n        <span class=\"age\"><a href=\"item?id=25845374\">4 hours ago</a></span> | <a href=\"hide?id=25845374&amp;goto=news\">hide</a>      </td></tr>\\n      <tr class=\"spacer\" style=\"height:5px\"></tr>\\n                <tr class=\\'athing\\' id=\\'25847672\\'>\\n      <td align=\"right\" valign=\"top\" class=\"title\"><span class=\"rank\">16.</span></td>      <td valign=\"top\" class=\"votelinks\"><center><a id=\\'up_25847672\\' href=\\'vote?id=25847672&amp;how=up&amp;goto=news\\'><div class=\\'votearrow\\' title=\\'upvote\\'></div></a></center></td><td class=\"title\"><a href=\"https://www.indianagazette.com/ap/national/feds-say-charges-over-stolen-pelosi-computer-being-prepared/article_c747e610-acc1-5c5e-a4c3-30697cb928cd.html\" class=\"storylink\">Feds say charges over stolen Pelosi computer being prepared</a><span class=\"sitebit comhead\"> (<a href=\"from?site=indianagazette.com\"><span class=\"sitestr\">indianagazette.com</span></a>)</span></td></tr><tr><td colspan=\"2\"></td><td class=\"subtext\">\\n        <span class=\"score\" id=\"score_25847672\">40 points</span> by <a href=\"user?id=fortran77\" class=\"hnuser\">fortran77</a> <span class=\"age\"><a href=\"item?id=25847672\">1 hour ago</a></span> <span id=\"unv_25847672\"></span> | <a href=\"hide?id=25847672&amp;goto=news\">hide</a> | <a href=\"item?id=25847672\">7&nbsp;comments</a>              </td></tr>\\n      <tr class=\"spacer\" style=\"height:5px\"></tr>\\n                <tr class=\\'athing\\' id=\\'25845201\\'>\\n      <td align=\"right\" valign=\"top\" class=\"title\"><span class=\"rank\">17.</span></td>      <td valign=\"top\" class=\"votelinks\"><center><a id=\\'up_25845201\\' href=\\'vote?id=25845201&amp;how=up&amp;goto=news\\'><div class=\\'votearrow\\' title=\\'upvote\\'></div></a></center></td><td class=\"title\"><a href=\"https://twitter.com/cmwdotme/status/1351838924621099008\" class=\"storylink\">Linux Running on Apple M1</a><span class=\"sitebit comhead\"> (<a href=\"from?site=twitter.com/cmwdotme\"><span class=\"sitestr\">twitter.com/cmwdotme</span></a>)</span></td></tr><tr><td colspan=\"2\"></td><td class=\"subtext\">\\n        <span class=\"score\" id=\"score_25845201\">196 points</span> by <a href=\"user?id=ig0r0\" class=\"hnuser\">ig0r0</a> <span class=\"age\"><a href=\"item?id=25845201\">5 hours ago</a></span> <span id=\"unv_25845201\"></span> | <a href=\"hide?id=25845201&amp;goto=news\">hide</a> | <a href=\"item?id=25845201\">102&nbsp;comments</a>              </td></tr>\\n      <tr class=\"spacer\" style=\"height:5px\"></tr>\\n                <tr class=\\'athing\\' id=\\'25845135\\'>\\n      <td align=\"right\" valign=\"top\" class=\"title\"><span class=\"rank\">18.</span></td>      <td valign=\"top\" class=\"votelinks\"><center><a id=\\'up_25845135\\' href=\\'vote?id=25845135&amp;how=up&amp;goto=news\\'><div class=\\'votearrow\\' title=\\'upvote\\'></div></a></center></td><td class=\"title\"><a href=\"https://www.nature.com/articles/d41586-019-01792-5\" class=\"storylink\">Hollywood and hyper-surveillance: the story of Gorgon Stare (2019)</a><span class=\"sitebit comhead\"> (<a href=\"from?site=nature.com\"><span class=\"sitestr\">nature.com</span></a>)</span></td></tr><tr><td colspan=\"2\"></td><td class=\"subtext\">\\n        <span class=\"score\" id=\"score_25845135\">33 points</span> by <a href=\"user?id=areoform\" class=\"hnuser\">areoform</a> <span class=\"age\"><a href=\"item?id=25845135\">5 hours ago</a></span> <span id=\"unv_25845135\"></span> | <a href=\"hide?id=25845135&amp;goto=news\">hide</a> | <a href=\"item?id=25845135\">7&nbsp;comments</a>              </td></tr>\\n      <tr class=\"spacer\" style=\"height:5px\"></tr>\\n                <tr class=\\'athing\\' id=\\'25833557\\'>\\n      <td align=\"right\" valign=\"top\" class=\"title\"><span class=\"rank\">19.</span></td>      <td valign=\"top\" class=\"votelinks\"><center><a id=\\'up_25833557\\' href=\\'vote?id=25833557&amp;how=up&amp;goto=news\\'><div class=\\'votearrow\\' title=\\'upvote\\'></div></a></center></td><td class=\"title\"><a href=\"https://hisham.hm/2021/01/18/again-on-0-based-vs-1-based-indexing/\" class=\"storylink\">Again on 0-based vs. 1-based indexing</a><span class=\"sitebit comhead\"> (<a href=\"from?site=hisham.hm\"><span class=\"sitestr\">hisham.hm</span></a>)</span></td></tr><tr><td colspan=\"2\"></td><td class=\"subtext\">\\n        <span class=\"score\" id=\"score_25833557\">142 points</span> by <a href=\"user?id=Ivoah\" class=\"hnuser\">Ivoah</a> <span class=\"age\"><a href=\"item?id=25833557\">12 hours ago</a></span> <span id=\"unv_25833557\"></span> | <a href=\"hide?id=25833557&amp;goto=news\">hide</a> | <a href=\"item?id=25833557\">379&nbsp;comments</a>              </td></tr>\\n      <tr class=\"spacer\" style=\"height:5px\"></tr>\\n                <tr class=\\'athing\\' id=\\'25838364\\'>\\n      <td align=\"right\" valign=\"top\" class=\"title\"><span class=\"rank\">20.</span></td>      <td valign=\"top\" class=\"votelinks\"><center><a id=\\'up_25838364\\' href=\\'vote?id=25838364&amp;how=up&amp;goto=news\\'><div class=\\'votearrow\\' title=\\'upvote\\'></div></a></center></td><td class=\"title\"><a href=\"https://medium.com/graalvm/java-on-truffle-going-fully-metacircular-215531e3f840\" class=\"storylink\">Java on Truffle \\xe2\\x80\\x93 Going Fully Metacircular</a><span class=\"sitebit comhead\"> (<a href=\"from?site=medium.com/graalvm\"><span class=\"sitestr\">medium.com/graalvm</span></a>)</span></td></tr><tr><td colspan=\"2\"></td><td class=\"subtext\">\\n        <span class=\"score\" id=\"score_25838364\">218 points</span> by <a href=\"user?id=Borkdude\" class=\"hnuser\">Borkdude</a> <span class=\"age\"><a href=\"item?id=25838364\">13 hours ago</a></span> <span id=\"unv_25838364\"></span> | <a href=\"hide?id=25838364&amp;goto=news\">hide</a> | <a href=\"item?id=25838364\">122&nbsp;comments</a>              </td></tr>\\n      <tr class=\"spacer\" style=\"height:5px\"></tr>\\n                <tr class=\\'athing\\' id=\\'25845002\\'>\\n      <td align=\"right\" valign=\"top\" class=\"title\"><span class=\"rank\">21.</span></td>      <td valign=\"top\" class=\"votelinks\"><center><a id=\\'up_25845002\\' href=\\'vote?id=25845002&amp;how=up&amp;goto=news\\'><div class=\\'votearrow\\' title=\\'upvote\\'></div></a></center></td><td class=\"title\"><a href=\"https://soul-lang.github.io/SOUL/docs/SOUL_V1_Release.html\" class=\"storylink\">Show HN: SOUL Language 1.0 \\xe2\\x80\\x93 A platform for writing and running audio code</a><span class=\"sitebit comhead\"> (<a href=\"from?site=soul-lang.github.io\"><span class=\"sitestr\">soul-lang.github.io</span></a>)</span></td></tr><tr><td colspan=\"2\"></td><td class=\"subtext\">\\n        <span class=\"score\" id=\"score_25845002\">76 points</span> by <a href=\"user?id=julesrms\" class=\"hnuser\">julesrms</a> <span class=\"age\"><a href=\"item?id=25845002\">5 hours ago</a></span> <span id=\"unv_25845002\"></span> | <a href=\"hide?id=25845002&amp;goto=news\">hide</a> | <a href=\"item?id=25845002\">59&nbsp;comments</a>              </td></tr>\\n      <tr class=\"spacer\" style=\"height:5px\"></tr>\\n                <tr class=\\'athing\\' id=\\'25846305\\'>\\n      <td align=\"right\" valign=\"top\" class=\"title\"><span class=\"rank\">22.</span></td>      <td valign=\"top\" class=\"votelinks\"><center><a id=\\'up_25846305\\' href=\\'vote?id=25846305&amp;how=up&amp;goto=news\\'><div class=\\'votearrow\\' title=\\'upvote\\'></div></a></center></td><td class=\"title\"><a href=\"https://www.nature.com/articles/d41586-021-00075-2\" class=\"storylink\">Ten computer codes that transformed science</a><span class=\"sitebit comhead\"> (<a href=\"from?site=nature.com\"><span class=\"sitestr\">nature.com</span></a>)</span></td></tr><tr><td colspan=\"2\"></td><td class=\"subtext\">\\n        <span class=\"score\" id=\"score_25846305\">15 points</span> by <a href=\"user?id=sohkamyung\" class=\"hnuser\">sohkamyung</a> <span class=\"age\"><a href=\"item?id=25846305\">2 hours ago</a></span> <span id=\"unv_25846305\"></span> | <a href=\"hide?id=25846305&amp;goto=news\">hide</a> | <a href=\"item?id=25846305\">7&nbsp;comments</a>              </td></tr>\\n      <tr class=\"spacer\" style=\"height:5px\"></tr>\\n                <tr class=\\'athing\\' id=\\'25843609\\'>\\n      <td align=\"right\" valign=\"top\" class=\"title\"><span class=\"rank\">23.</span></td>      <td valign=\"top\" class=\"votelinks\"><center><a id=\\'up_25843609\\' href=\\'vote?id=25843609&amp;how=up&amp;goto=news\\'><div class=\\'votearrow\\' title=\\'upvote\\'></div></a></center></td><td class=\"title\"><a href=\"https://tailscale.com/blog/nixos-minecraft/\" class=\"storylink\">Tailscale on NixOS: A New Minecraft Server in Ten Minutes</a><span class=\"sitebit comhead\"> (<a href=\"from?site=tailscale.com\"><span class=\"sitestr\">tailscale.com</span></a>)</span></td></tr><tr><td colspan=\"2\"></td><td class=\"subtext\">\\n        <span class=\"score\" id=\"score_25843609\">83 points</span> by <a href=\"user?id=tutfbhuf\" class=\"hnuser\">tutfbhuf</a> <span class=\"age\"><a href=\"item?id=25843609\">9 hours ago</a></span> <span id=\"unv_25843609\"></span> | <a href=\"hide?id=25843609&amp;goto=news\">hide</a> | <a href=\"item?id=25843609\">39&nbsp;comments</a>              </td></tr>\\n      <tr class=\"spacer\" style=\"height:5px\"></tr>\\n                <tr class=\\'athing\\' id=\\'25823384\\'>\\n      <td align=\"right\" valign=\"top\" class=\"title\"><span class=\"rank\">24.</span></td>      <td valign=\"top\" class=\"votelinks\"><center><a id=\\'up_25823384\\' href=\\'vote?id=25823384&amp;how=up&amp;goto=news\\'><div class=\\'votearrow\\' title=\\'upvote\\'></div></a></center></td><td class=\"title\"><a href=\"https://srconstantin.github.io/2021/01/17/Mammalian-Aggression.html\" class=\"storylink\">Mammalian Aggression</a><span class=\"sitebit comhead\"> (<a href=\"from?site=srconstantin.github.io\"><span class=\"sitestr\">srconstantin.github.io</span></a>)</span></td></tr><tr><td colspan=\"2\"></td><td class=\"subtext\">\\n        <span class=\"score\" id=\"score_25823384\">92 points</span> by <a href=\"user?id=apsec112\" class=\"hnuser\">apsec112</a> <span class=\"age\"><a href=\"item?id=25823384\">10 hours ago</a></span> <span id=\"unv_25823384\"></span> | <a href=\"hide?id=25823384&amp;goto=news\">hide</a> | <a href=\"item?id=25823384\">28&nbsp;comments</a>              </td></tr>\\n      <tr class=\"spacer\" style=\"height:5px\"></tr>\\n                <tr class=\\'athing\\' id=\\'25844292\\'>\\n      <td align=\"right\" valign=\"top\" class=\"title\"><span class=\"rank\">25.</span></td>      <td valign=\"top\" class=\"votelinks\"><center><a id=\\'up_25844292\\' href=\\'vote?id=25844292&amp;how=up&amp;goto=news\\'><div class=\\'votearrow\\' title=\\'upvote\\'></div></a></center></td><td class=\"title\"><a href=\"https://www.nasaspaceflight.com/2021/01/spacex-rigs-starship-spaceports/\" class=\"storylink\">SpaceX acquires former oil rigs to serve as floating Starship spaceports</a><span class=\"sitebit comhead\"> (<a href=\"from?site=nasaspaceflight.com\"><span class=\"sitestr\">nasaspaceflight.com</span></a>)</span></td></tr><tr><td colspan=\"2\"></td><td class=\"subtext\">\\n        <span class=\"score\" id=\"score_25844292\">190 points</span> by <a href=\"user?id=eddieoz\" class=\"hnuser\">eddieoz</a> <span class=\"age\"><a href=\"item?id=25844292\">7 hours ago</a></span> <span id=\"unv_25844292\"></span> | <a href=\"hide?id=25844292&amp;goto=news\">hide</a> | <a href=\"item?id=25844292\">140&nbsp;comments</a>              </td></tr>\\n      <tr class=\"spacer\" style=\"height:5px\"></tr>\\n                <tr class=\\'athing\\' id=\\'25833645\\'>\\n      <td align=\"right\" valign=\"top\" class=\"title\"><span class=\"rank\">26.</span></td>      <td valign=\"top\" class=\"votelinks\"><center><a id=\\'up_25833645\\' href=\\'vote?id=25833645&amp;how=up&amp;goto=news\\'><div class=\\'votearrow\\' title=\\'upvote\\'></div></a></center></td><td class=\"title\"><a href=\"https://github.com/irevenko/what-anime-cli\" class=\"storylink\">What Anime CLI?</a><span class=\"sitebit comhead\"> (<a href=\"from?site=github.com/irevenko\"><span class=\"sitestr\">github.com/irevenko</span></a>)</span></td></tr><tr><td colspan=\"2\"></td><td class=\"subtext\">\\n        <span class=\"score\" id=\"score_25833645\">118 points</span> by <a href=\"user?id=irevenko\" class=\"hnuser\">irevenko</a> <span class=\"age\"><a href=\"item?id=25833645\">11 hours ago</a></span> <span id=\"unv_25833645\"></span> | <a href=\"hide?id=25833645&amp;goto=news\">hide</a> | <a href=\"item?id=25833645\">52&nbsp;comments</a>              </td></tr>\\n      <tr class=\"spacer\" style=\"height:5px\"></tr>\\n                <tr class=\\'athing\\' id=\\'25836886\\'>\\n      <td align=\"right\" valign=\"top\" class=\"title\"><span class=\"rank\">27.</span></td>      <td valign=\"top\" class=\"votelinks\"><center><a id=\\'up_25836886\\' href=\\'vote?id=25836886&amp;how=up&amp;goto=news\\'><div class=\\'votearrow\\' title=\\'upvote\\'></div></a></center></td><td class=\"title\"><a href=\"https://brave.com/ipfs-support/\" class=\"storylink\">IPFS Support in Brave</a><span class=\"sitebit comhead\"> (<a href=\"from?site=brave.com\"><span class=\"sitestr\">brave.com</span></a>)</span></td></tr><tr><td colspan=\"2\"></td><td class=\"subtext\">\\n        <span class=\"score\" id=\"score_25836886\">1087 points</span> by <a href=\"user?id=alexrustic\" class=\"hnuser\">alexrustic</a> <span class=\"age\"><a href=\"item?id=25836886\">22 hours ago</a></span> <span id=\"unv_25836886\"></span> | <a href=\"hide?id=25836886&amp;goto=news\">hide</a> | <a href=\"item?id=25836886\">389&nbsp;comments</a>              </td></tr>\\n      <tr class=\"spacer\" style=\"height:5px\"></tr>\\n                <tr class=\\'athing\\' id=\\'25846950\\'>\\n      <td align=\"right\" valign=\"top\" class=\"title\"><span class=\"rank\">28.</span></td>      <td valign=\"top\" class=\"votelinks\"><center><a id=\\'up_25846950\\' href=\\'vote?id=25846950&amp;how=up&amp;goto=news\\'><div class=\\'votearrow\\' title=\\'upvote\\'></div></a></center></td><td class=\"title\"><a href=\"https://www.yoyogames.com/blog/597/yoyo-games-is-now-part-of-opera\" class=\"storylink\" rel=\"nofollow\">YoYo Games Is Now Part of Opera</a><span class=\"sitebit comhead\"> (<a href=\"from?site=yoyogames.com\"><span class=\"sitestr\">yoyogames.com</span></a>)</span></td></tr><tr><td colspan=\"2\"></td><td class=\"subtext\">\\n        <span class=\"score\" id=\"score_25846950\">3 points</span> by <a href=\"user?id=doppp\" class=\"hnuser\">doppp</a> <span class=\"age\"><a href=\"item?id=25846950\">1 hour ago</a></span> <span id=\"unv_25846950\"></span> | <a href=\"hide?id=25846950&amp;goto=news\">hide</a> | <a href=\"item?id=25846950\">1&nbsp;comment</a>              </td></tr>\\n      <tr class=\"spacer\" style=\"height:5px\"></tr>\\n                <tr class=\\'athing\\' id=\\'25844277\\'>\\n      <td align=\"right\" valign=\"top\" class=\"title\"><span class=\"rank\">29.</span></td>      <td valign=\"top\" class=\"votelinks\"><center><a id=\\'up_25844277\\' href=\\'vote?id=25844277&amp;how=up&amp;goto=news\\'><div class=\\'votearrow\\' title=\\'upvote\\'></div></a></center></td><td class=\"title\"><a href=\"https://feedback.photoshop.com/conversations/photoshop/cant-uninstall-adobe-apps-without-an-account/5f5f45ee4b561a3d4268bd5e\" class=\"storylink\">Can\\'t uninstall Adobe apps without an account (2018)</a><span class=\"sitebit comhead\"> (<a href=\"from?site=photoshop.com\"><span class=\"sitestr\">photoshop.com</span></a>)</span></td></tr><tr><td colspan=\"2\"></td><td class=\"subtext\">\\n        <span class=\"score\" id=\"score_25844277\">286 points</span> by <a href=\"user?id=sings\" class=\"hnuser\">sings</a> <span class=\"age\"><a href=\"item?id=25844277\">7 hours ago</a></span> <span id=\"unv_25844277\"></span> | <a href=\"hide?id=25844277&amp;goto=news\">hide</a> | <a href=\"item?id=25844277\">188&nbsp;comments</a>              </td></tr>\\n      <tr class=\"spacer\" style=\"height:5px\"></tr>\\n                <tr class=\\'athing\\' id=\\'25830327\\'>\\n      <td align=\"right\" valign=\"top\" class=\"title\"><span class=\"rank\">30.</span></td>      <td valign=\"top\" class=\"votelinks\"><center><a id=\\'up_25830327\\' href=\\'vote?id=25830327&amp;how=up&amp;goto=news\\'><div class=\\'votearrow\\' title=\\'upvote\\'></div></a></center></td><td class=\"title\"><a href=\"https://raphlinus.github.io/color/2021/01/18/oklab-critique.html\" class=\"storylink\">An interactive review of the Oklab perceptual color space</a><span class=\"sitebit comhead\"> (<a href=\"from?site=raphlinus.github.io\"><span class=\"sitestr\">raphlinus.github.io</span></a>)</span></td></tr><tr><td colspan=\"2\"></td><td class=\"subtext\">\\n        <span class=\"score\" id=\"score_25830327\">107 points</span> by <a href=\"user?id=raphlinus\" class=\"hnuser\">raphlinus</a> <span class=\"age\"><a href=\"item?id=25830327\">13 hours ago</a></span> <span id=\"unv_25830327\"></span> | <a href=\"hide?id=25830327&amp;goto=news\">hide</a> | <a href=\"item?id=25830327\">27&nbsp;comments</a>              </td></tr>\\n      <tr class=\"spacer\" style=\"height:5px\"></tr>\\n            <tr class=\"morespace\" style=\"height:10px\"></tr><tr><td colspan=\"2\"></td><td class=\"title\"><a href=\"news?p=2\" class=\"morelink\" rel=\"next\">More</a></td></tr>\\n  </table>\\n</td></tr>\\n<tr><td><img src=\"s.gif\" height=\"10\" width=\"0\"><table width=\"100%\" cellspacing=\"0\" cellpadding=\"1\"><tr><td bgcolor=\"#ff6600\"></td></tr></table><br><center><span class=\"yclinks\"><a href=\"newsguidelines.html\">Guidelines</a>\\n        | <a href=\"newsfaq.html\">FAQ</a>\\n        | <a href=\"lists\">Lists</a>\\n        | <a href=\"https://github.com/HackerNews/API\">API</a>\\n        | <a href=\"security.html\">Security</a>\\n        | <a href=\"http://www.ycombinator.com/legal/\">Legal</a>\\n        | <a href=\"http://www.ycombinator.com/apply/\">Apply to YC</a>\\n        | <a href=\"mailto:hn@ycombinator.com\">Contact</a></span><br><br><form method=\"get\" action=\"//hn.algolia.com/\">Search:\\n          <input type=\"text\" name=\"q\" value=\"\" size=\"17\" autocorrect=\"off\" spellcheck=\"false\" autocapitalize=\"off\" autocomplete=\"false\"></form>\\n            </center></td></tr>\\n      </table></center></body><script type=\\'text/javascript\\' src=\\'hn.js?OnNWsJiz21LfZewvRRkg\\'></script></html>\\n'"
      ]
     },
     "execution_count": 40,
     "metadata": {},
     "output_type": "execute_result"
    }
   ],
   "source": [
    "res.content"
   ]
  },
  {
   "cell_type": "markdown",
   "metadata": {},
   "source": [
    "### Exercise\n",
    "Create a class called `HackerNewsScraper` that defines a class_level attribute `url` and has a `scrape` method that simply makes a request to the url and returns the content."
   ]
  },
  {
   "cell_type": "code",
   "execution_count": 8,
   "metadata": {},
   "outputs": [],
   "source": [
    "class HackerNewsScraper():\n",
    "    url = '' # implement\n",
    "    \n",
    "    def scrape(self):\n",
    "        # Implement\n",
    "        pass"
   ]
  },
  {
   "cell_type": "code",
   "execution_count": 45,
   "metadata": {},
   "outputs": [],
   "source": [
    "# HackerNewsScraper().scrape()"
   ]
  },
  {
   "cell_type": "code",
   "execution_count": null,
   "metadata": {},
   "outputs": [],
   "source": []
  },
  {
   "cell_type": "markdown",
   "metadata": {},
   "source": [
    "### Exercise\n",
    "Create a metaclass `ScraperMeta` that checks if `url` is in the `dct` namespace and if it's not there, it should raise an `Exception`"
   ]
  },
  {
   "cell_type": "code",
   "execution_count": 9,
   "metadata": {},
   "outputs": [],
   "source": [
    "class ScraperMeta(type):\n",
    "    def __new__(cls, name, bases, dct):\n",
    "        # Implement here\n",
    "        pass"
   ]
  },
  {
   "cell_type": "code",
   "execution_count": 12,
   "metadata": {},
   "outputs": [],
   "source": [
    "class HackerNewsScraper(metaclass=ScraperMeta):\n",
    "    url = '' # Implement\n",
    "\n",
    "    def scrape(self):\n",
    "        # Implement\n",
    "        pass        "
   ]
  },
  {
   "cell_type": "markdown",
   "metadata": {},
   "source": [
    "### Exercise.\n",
    "Define `HackerNewsScraper` **without** the `url` and see what happens, using the meta class"
   ]
  },
  {
   "cell_type": "code",
   "execution_count": null,
   "metadata": {},
   "outputs": [],
   "source": []
  },
  {
   "cell_type": "markdown",
   "metadata": {},
   "source": [
    "## `__call__` and `__new__`"
   ]
  },
  {
   "cell_type": "code",
   "execution_count": 31,
   "metadata": {},
   "outputs": [],
   "source": [
    "class Bar():\n",
    "    def __init__(self):\n",
    "        print(\"Instance created!\")\n",
    "\n",
    "    def __call__(self):\n",
    "        print(\"Instance called via special method\")"
   ]
  },
  {
   "cell_type": "code",
   "execution_count": 34,
   "metadata": {},
   "outputs": [
    {
     "name": "stdout",
     "output_type": "stream",
     "text": [
      "Instance created!\n"
     ]
    }
   ],
   "source": [
    "bar = Bar()"
   ]
  },
  {
   "cell_type": "code",
   "execution_count": 36,
   "metadata": {},
   "outputs": [
    {
     "name": "stdout",
     "output_type": "stream",
     "text": [
      "Instance called via special method\n"
     ]
    }
   ],
   "source": [
    "bar()"
   ]
  },
  {
   "cell_type": "markdown",
   "metadata": {},
   "source": [
    "### What is going on here?\n",
    "Let's generalize the above.\n",
    "\n",
    "1. On the metaclass, `__new__` results in the creation of the class. \n",
    "2. The `__call__` on the metaclass is called whenever the class is called for instantiation."
   ]
  },
  {
   "cell_type": "code",
   "execution_count": 58,
   "metadata": {},
   "outputs": [],
   "source": [
    "class BarMeta(type):\n",
    "    def __call__(cls):\n",
    "        print(\"Whoa! We are in __call__ of BarMeta\")\n",
    "        super().__call__()\n",
    "\n",
    "    def __new__(cls, *args):\n",
    "        print(\"Calling __new__ of BarMeta!\")\n",
    "        return super().__new__(cls, *args)"
   ]
  },
  {
   "cell_type": "code",
   "execution_count": 66,
   "metadata": {},
   "outputs": [],
   "source": [
    "class Bar(metaclass=BarMeta):\n",
    "    def __init__(self):\n",
    "        print(\"In __init__ of Bar!\")"
   ]
  },
  {
   "cell_type": "code",
   "execution_count": 69,
   "metadata": {},
   "outputs": [],
   "source": [
    "Bar()"
   ]
  },
  {
   "cell_type": "markdown",
   "metadata": {},
   "source": [
    "## Use Case 2: Singleton"
   ]
  },
  {
   "cell_type": "markdown",
   "metadata": {},
   "source": [
    "```python\n",
    "class SingletonA(metaclass=SingletonMeta):\n",
    "    pass\n",
    "\n",
    ">>> A = SingletonA()\n",
    ">>> B = SingletonA()\n",
    ">>> # A is B. \n",
    "```"
   ]
  },
  {
   "cell_type": "code",
   "execution_count": null,
   "metadata": {},
   "outputs": [],
   "source": []
  },
  {
   "cell_type": "markdown",
   "metadata": {},
   "source": [
    "Fill in the logic below"
   ]
  },
  {
   "cell_type": "code",
   "execution_count": 75,
   "metadata": {},
   "outputs": [],
   "source": [
    "class SingletonMeta(type):\n",
    "    _instance_map = {}\n",
    "\n",
    "    def __call__(cls, name, bases, dct):\n",
    "        # Implement logic here\n",
    "        # If we don't have an instance already, for class `cls`\n",
    "        # then call the `__call__` function to instantiate \n",
    "        # and save and return the instance\n",
    "        # Otherwise, return the instance we have already created\n",
    "        pass"
   ]
  },
  {
   "cell_type": "markdown",
   "metadata": {},
   "source": [
    "### Exercise\n",
    "- Create a class that uses `SingletonMeta` as its metaclass. \n",
    "- What happens when you try to instantiate multiple instances?\n",
    "- Now create another class that uses `SingletonMeta`. Does it interfere with the previous class?"
   ]
  },
  {
   "cell_type": "code",
   "execution_count": null,
   "metadata": {},
   "outputs": [],
   "source": []
  },
  {
   "cell_type": "markdown",
   "metadata": {},
   "source": [
    "## (Optional) Lab: Registry\n",
    "Use metaclasses so that any class that uses `AnimalMeta` tracks all the classes in a global `class_registry`."
   ]
  },
  {
   "cell_type": "code",
   "execution_count": null,
   "metadata": {},
   "outputs": [],
   "source": []
  }
 ],
 "metadata": {
  "kernelspec": {
   "display_name": "Python 3",
   "language": "python",
   "name": "python3"
  },
  "language_info": {
   "codemirror_mode": {
    "name": "ipython",
    "version": 3
   },
   "file_extension": ".py",
   "mimetype": "text/x-python",
   "name": "python",
   "nbconvert_exporter": "python",
   "pygments_lexer": "ipython3",
   "version": "3.8.5"
  }
 },
 "nbformat": 4,
 "nbformat_minor": 4
}
