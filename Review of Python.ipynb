{
 "cells": [
  {
   "cell_type": "markdown",
   "metadata": {},
   "source": [
    "# Module: Review of Python\n",
    "After going through this notebook, students will be able to write functions that\n",
    "\n",
    "- manipulate data\n",
    "- apply conditional logic\n",
    "- iterate through list-type structures\n",
    "- leverage Python libraries\n",
    "- practice abstraction / modularity\n",
    "- use list comprehensions"
   ]
  },
  {
   "cell_type": "code",
   "execution_count": null,
   "metadata": {},
   "outputs": [],
   "source": []
  },
  {
   "cell_type": "markdown",
   "metadata": {},
   "source": [
    "# [5] Review of Data Types\n",
    "\n",
    "Everything we do with coding boils down to working with data, so let's get familiar with the data types of Python and also start to build our comfort level with Python\n",
    "\n",
    "Let's also get comfortable with using the Jupyter Notebook environment!\n"
   ]
  },
  {
   "cell_type": "markdown",
   "metadata": {},
   "source": [
    "**Let's start with integers and floats.**"
   ]
  },
  {
   "cell_type": "code",
   "execution_count": 5,
   "metadata": {},
   "outputs": [
    {
     "data": {
      "text/plain": [
       "4"
      ]
     },
     "execution_count": 5,
     "metadata": {},
     "output_type": "execute_result"
    }
   ],
   "source": [
    "2 + 2"
   ]
  },
  {
   "cell_type": "code",
   "execution_count": 6,
   "metadata": {},
   "outputs": [
    {
     "data": {
      "text/plain": [
       "1.45"
      ]
     },
     "execution_count": 6,
     "metadata": {},
     "output_type": "execute_result"
    }
   ],
   "source": [
    "7.25 / 5"
   ]
  },
  {
   "cell_type": "markdown",
   "metadata": {},
   "source": [
    "**Try any mathematical operation and see it does what we want.**"
   ]
  },
  {
   "cell_type": "code",
   "execution_count": null,
   "metadata": {},
   "outputs": [],
   "source": []
  },
  {
   "cell_type": "markdown",
   "metadata": {},
   "source": [
    "**What about strings? What are strings?**"
   ]
  },
  {
   "cell_type": "code",
   "execution_count": 2,
   "metadata": {},
   "outputs": [
    {
     "data": {
      "text/plain": [
       "'Hello'"
      ]
     },
     "execution_count": 2,
     "metadata": {},
     "output_type": "execute_result"
    }
   ],
   "source": [
    "'Hello'"
   ]
  },
  {
   "cell_type": "code",
   "execution_count": null,
   "metadata": {},
   "outputs": [],
   "source": []
  },
  {
   "cell_type": "markdown",
   "metadata": {},
   "source": [
    "**There are other data types that are built-in, primary data types, called Booleans**"
   ]
  },
  {
   "cell_type": "code",
   "execution_count": 3,
   "metadata": {},
   "outputs": [
    {
     "data": {
      "text/plain": [
       "True"
      ]
     },
     "execution_count": 3,
     "metadata": {},
     "output_type": "execute_result"
    }
   ],
   "source": [
    "True"
   ]
  },
  {
   "cell_type": "markdown",
   "metadata": {},
   "source": [
    "Let's try `False`"
   ]
  },
  {
   "cell_type": "code",
   "execution_count": null,
   "metadata": {},
   "outputs": [],
   "source": []
  },
  {
   "cell_type": "markdown",
   "metadata": {},
   "source": [
    "There's also `None`"
   ]
  },
  {
   "cell_type": "code",
   "execution_count": 4,
   "metadata": {},
   "outputs": [],
   "source": [
    "None"
   ]
  },
  {
   "cell_type": "code",
   "execution_count": null,
   "metadata": {},
   "outputs": [],
   "source": []
  },
  {
   "cell_type": "markdown",
   "metadata": {},
   "source": [
    "## Casting\n",
    "\n",
    "- Let's play with `int()` and `str()`"
   ]
  },
  {
   "cell_type": "code",
   "execution_count": null,
   "metadata": {},
   "outputs": [],
   "source": []
  },
  {
   "cell_type": "markdown",
   "metadata": {},
   "source": [
    "- With `bool` let's reverse-engineer what it's doing by trying it on different inputs and see what the outputs are."
   ]
  },
  {
   "cell_type": "code",
   "execution_count": null,
   "metadata": {},
   "outputs": [],
   "source": []
  },
  {
   "cell_type": "markdown",
   "metadata": {},
   "source": [
    "# [10] String Manipulation\n",
    "A significant chunk of Python/datawork involves working with unstructured data like textual data.\n",
    "\n",
    "Here are some examples:\n",
    "- Analyzing restaurant reviews\n",
    "- Detecting spam\n",
    "- Classifying sentiment\n",
    "\n",
    "How are these related to manipulating string data?"
   ]
  },
  {
   "cell_type": "markdown",
   "metadata": {},
   "source": [
    "**There are many different things we can do with strings. Let's look at the docs:***\n",
    "\n",
    "### https://docs.python.org/3/library/stdtypes.html#string-methods"
   ]
  },
  {
   "cell_type": "code",
   "execution_count": null,
   "metadata": {},
   "outputs": [],
   "source": []
  },
  {
   "cell_type": "markdown",
   "metadata": {},
   "source": [
    "**Let's see how we define variables.**"
   ]
  },
  {
   "cell_type": "code",
   "execution_count": 8,
   "metadata": {},
   "outputs": [],
   "source": [
    "description = \"Python is a great language to learn!\""
   ]
  },
  {
   "cell_type": "code",
   "execution_count": 9,
   "metadata": {},
   "outputs": [
    {
     "data": {
      "text/plain": [
       "'python is a great language to learn!'"
      ]
     },
     "execution_count": 9,
     "metadata": {},
     "output_type": "execute_result"
    }
   ],
   "source": [
    "description.lower()"
   ]
  },
  {
   "cell_type": "markdown",
   "metadata": {},
   "source": [
    "**Now try uppercasing**"
   ]
  },
  {
   "cell_type": "code",
   "execution_count": null,
   "metadata": {},
   "outputs": [],
   "source": []
  },
  {
   "cell_type": "markdown",
   "metadata": {},
   "source": [
    "**Some other methods to try**\n",
    "\n",
    "- `.capitalize()`\n",
    "- `.endswith()`"
   ]
  },
  {
   "cell_type": "code",
   "execution_count": null,
   "metadata": {},
   "outputs": [],
   "source": []
  },
  {
   "cell_type": "code",
   "execution_count": 12,
   "metadata": {},
   "outputs": [],
   "source": [
    "messy_string = '    Hello how are you? There are a lot of $pace$ ' "
   ]
  },
  {
   "cell_type": "markdown",
   "metadata": {},
   "source": [
    "## Exercise\n",
    "Strip the extraneous whitespace from the above variable."
   ]
  },
  {
   "cell_type": "code",
   "execution_count": null,
   "metadata": {},
   "outputs": [],
   "source": []
  },
  {
   "cell_type": "markdown",
   "metadata": {},
   "source": [
    "# Exercise\n",
    "Replace the dollar-sign `$` above with an `s`"
   ]
  },
  {
   "cell_type": "code",
   "execution_count": null,
   "metadata": {},
   "outputs": [],
   "source": []
  },
  {
   "cell_type": "markdown",
   "metadata": {},
   "source": [
    "# [10] If / Else\n",
    "Now that we've built a foundation in data, the next layer that we add in Boolean logic.\n",
    "\n",
    "Ultimately, even the most complex program can usually be phrased as a series or tree fo Boolean statements.\n",
    "\n",
    "\n",
    "Suppose we are dealing with an e-Commerce site.\n",
    "\n",
    "\n",
    "```\n",
    "If the user has items that they have added to their shopping cart and they haven't taken any action to checkout in the last hour, send them a reminder email.\n",
    "```"
   ]
  },
  {
   "cell_type": "markdown",
   "metadata": {},
   "source": [
    "Let's look at the syntax. Execute the following code"
   ]
  },
  {
   "cell_type": "code",
   "execution_count": 15,
   "metadata": {},
   "outputs": [],
   "source": [
    "x = 5\n",
    "\n",
    "if x > 10:\n",
    "    print(\"Wow! X is greater than 10!\")\n",
    "else:\n",
    "    print(\"x is less than 10 :(\")\n"
   ]
  },
  {
   "cell_type": "code",
   "execution_count": null,
   "metadata": {},
   "outputs": [],
   "source": []
  },
  {
   "cell_type": "markdown",
   "metadata": {},
   "source": [
    "### Exercise\n",
    "Write an if/else statement that captures the following logic..\n",
    "\n",
    "- If `person_type` is equal to 'Foe', print 'Beware'\n",
    "- If `person_type` is equal to 'Neutral', print 'Approach with Caution'\n",
    "- If `person_type` is equal to 'Friendly', print 'Shake hands'\n",
    "- If `person_type` is equal to 'Close Friend', print 'Give trust'\n",
    "- Otherwise, print 'Need more info...'\n",
    "\n",
    "**hint**: Think of a way to make this really terse."
   ]
  },
  {
   "cell_type": "code",
   "execution_count": null,
   "metadata": {},
   "outputs": [],
   "source": []
  },
  {
   "cell_type": "markdown",
   "metadata": {},
   "source": [
    "# [10] Review Lists\n",
    "Lists are fundamental data structure in Python. Let's review the syntax."
   ]
  },
  {
   "cell_type": "code",
   "execution_count": 16,
   "metadata": {},
   "outputs": [],
   "source": [
    "restaurants= ['Chipotle', 'TGIF', 'Nonna Maria', 'AA Sushi']"
   ]
  },
  {
   "cell_type": "markdown",
   "metadata": {},
   "source": [
    "Let's go through the common operations together:\n",
    "\n",
    "- add an element\n",
    "- remove an element\n",
    "- check if an element is in the list\n",
    "- check the length of a list"
   ]
  },
  {
   "cell_type": "code",
   "execution_count": null,
   "metadata": {},
   "outputs": [],
   "source": []
  },
  {
   "cell_type": "markdown",
   "metadata": {},
   "source": [
    "## Exercise\n",
    "Suppose we have the following list"
   ]
  },
  {
   "cell_type": "code",
   "execution_count": 17,
   "metadata": {},
   "outputs": [],
   "source": [
    "artists= ['Van Gogh', 'Michelangelo', 'Jackson Pollack']"
   ]
  },
  {
   "cell_type": "markdown",
   "metadata": {},
   "source": [
    "Do the following operations:\n",
    "\n",
    "- Add \"Andy Warhol\" to the list\n",
    "- Remove \"Jackson Pollack\" from the list\n",
    "- Check if \"Andy Warhol\" is in the list using the `is in` syntax"
   ]
  },
  {
   "cell_type": "code",
   "execution_count": null,
   "metadata": {},
   "outputs": [],
   "source": []
  },
  {
   "cell_type": "markdown",
   "metadata": {},
   "source": [
    "# [20] For Loops\n",
    "\n",
    "A for loop, which is a specific type of \"list iteation\", is a powerful tool that allows us to iterate through lists or things like lists, so we can do logic for each element in the list."
   ]
  },
  {
   "cell_type": "code",
   "execution_count": 1,
   "metadata": {},
   "outputs": [
    {
     "name": "stdout",
     "output_type": "stream",
     "text": [
      "Harry Potter\n",
      "Catcher in the Rye\n",
      "The Great Gatsby\n",
      "Just Mercy\n",
      "Das Kapital\n"
     ]
    }
   ],
   "source": [
    "books = [\"Harry Potter\", \"Catcher in the Rye\", \"The Great Gatsby\", \"Just Mercy\", \"Das Kapital\"]\n",
    "\n",
    "for item_name in books:\n",
    "    print(item_name)"
   ]
  },
  {
   "cell_type": "code",
   "execution_count": null,
   "metadata": {},
   "outputs": [],
   "source": []
  },
  {
   "cell_type": "code",
   "execution_count": null,
   "metadata": {},
   "outputs": [],
   "source": []
  },
  {
   "cell_type": "markdown",
   "metadata": {},
   "source": [
    "## Modify with if/else\n",
    "Change the above for loop to print \"Expelliarmus\" if the book is Harry Potter, otherwise keep fuctionality as is."
   ]
  },
  {
   "cell_type": "code",
   "execution_count": null,
   "metadata": {},
   "outputs": [],
   "source": []
  },
  {
   "cell_type": "code",
   "execution_count": null,
   "metadata": {},
   "outputs": [],
   "source": []
  },
  {
   "cell_type": "markdown",
   "metadata": {},
   "source": [
    "## Let's add some more complexity"
   ]
  },
  {
   "cell_type": "code",
   "execution_count": 1,
   "metadata": {},
   "outputs": [
    {
     "name": "stdout",
     "output_type": "stream",
     "text": [
      "[]\n"
     ]
    }
   ],
   "source": [
    "books_with_ratings = [\n",
    "    [\"Harry Potter\", 7.8],\n",
    "    [\"Catcher in the Rye\", 9.2],\n",
    "    [\"The Great Gatsby\", 8.7],\n",
    "    [\"Just Mercy\", 7.1],\n",
    "    [\"Das Kapital\", 7.0],\n",
    "    [\"The Hardy Boys\", 6.5],\n",
    "]\n",
    "\n",
    "best_books = []\n",
    "\n",
    "for item in books_with_ratings:\n",
    "    # If rating is greater than 7.5, then add to best_books list\n",
    "    pass\n",
    "\n",
    "print(best_books)"
   ]
  },
  {
   "cell_type": "markdown",
   "metadata": {},
   "source": [
    "## Exercise Part 1\n",
    "Given a list courses, return only the courses that the student hasn't taken."
   ]
  },
  {
   "cell_type": "code",
   "execution_count": 29,
   "metadata": {},
   "outputs": [],
   "source": [
    "courses_already_taken = ['Mathematics 101', 'Astronomy 203', 'English 405']"
   ]
  },
  {
   "cell_type": "code",
   "execution_count": 32,
   "metadata": {},
   "outputs": [],
   "source": [
    "all_courses = [\n",
    "    ['Mathematics 101', 5.1],\n",
    "    ['Mathematics 102', 6.7],\n",
    "    ['Mathematics 103', 8.8],\n",
    "    ['Mathematics 201', 7.5],\n",
    "    ['Mathematics 202', 6.1],\n",
    "    ['Spanish 407', 7.2],\n",
    "    ['Astronomy 203', 6.7],\n",
    "    ['Astronomy 204', 8.8],\n",
    "    ['English 101', 5.5],\n",
    "    ['English 102', 6.5],\n",
    "    ['English 405', 6.6],\n",
    "    ['Physics 101', 7.2],\n",
    "    ['Physics 102', 7.8],\n",
    "]"
   ]
  },
  {
   "cell_type": "code",
   "execution_count": null,
   "metadata": {},
   "outputs": [],
   "source": []
  },
  {
   "cell_type": "markdown",
   "metadata": {},
   "source": [
    "## Exercise Part 2\n",
    "Now return only the courses that they haven't taken AND the rating is higher than 7.0"
   ]
  },
  {
   "cell_type": "code",
   "execution_count": null,
   "metadata": {},
   "outputs": [],
   "source": []
  },
  {
   "cell_type": "markdown",
   "metadata": {},
   "source": [
    "# [10] Review of functions\n",
    "Functions are the heart and soul of programming and a lot of what we will do in data munging and preparation is create functions that we can apply to columns in our dataset to transform it to what we need."
   ]
  },
  {
   "cell_type": "markdown",
   "metadata": {},
   "source": [
    "**Let's look at the syntax.**"
   ]
  },
  {
   "cell_type": "code",
   "execution_count": 33,
   "metadata": {},
   "outputs": [],
   "source": [
    "FAVORITES = ['Chipotle', 'California Pizza Kitchen', \"Paris Bistro\"]\n",
    "\n",
    "def is_in_favorites(restaurant):\n",
    "    return restaurant in FAVORITES"
   ]
  },
  {
   "cell_type": "markdown",
   "metadata": {},
   "source": [
    "**Key things to notice**\n",
    "\n",
    "- colon\n",
    "- indentation\n",
    "- return statement\n",
    "- name of variables\n",
    "- `def`"
   ]
  },
  {
   "cell_type": "markdown",
   "metadata": {},
   "source": [
    "**Let's call the function.**"
   ]
  },
  {
   "cell_type": "code",
   "execution_count": null,
   "metadata": {},
   "outputs": [],
   "source": []
  },
  {
   "cell_type": "markdown",
   "metadata": {},
   "source": [
    "## Exercise\n",
    "A lot of the time in data munging, we are cleaning up dirty data. Data can be dirty for many reasons. \n",
    "\n",
    "- outliers\n",
    "- typos\n",
    "- wrong data types\n",
    "- etc\n",
    "\n",
    "Create a function that does the following:\n",
    "\n",
    "```\n",
    "Turns $12,305,200.22 into 12305200.22\n",
    "```"
   ]
  },
  {
   "cell_type": "code",
   "execution_count": null,
   "metadata": {},
   "outputs": [],
   "source": []
  },
  {
   "cell_type": "markdown",
   "metadata": {},
   "source": [
    "**Let's take a look at the `random` library in the Python docs.**\n",
    "\n",
    "## https://docs.python.org/3/library/random.html"
   ]
  },
  {
   "cell_type": "markdown",
   "metadata": {},
   "source": [
    "## Exercise\n",
    "Go ahead and use the `random` library to generate a random number."
   ]
  },
  {
   "cell_type": "code",
   "execution_count": 34,
   "metadata": {},
   "outputs": [],
   "source": [
    "import random"
   ]
  },
  {
   "cell_type": "code",
   "execution_count": null,
   "metadata": {},
   "outputs": [],
   "source": []
  },
  {
   "cell_type": "markdown",
   "metadata": {},
   "source": [
    "## [20] Lab\n",
    "Create a function that randomly returns one of your favorite restaurants, given that it has a rating of 6.5 or higher.\n",
    "\n",
    "**Bonus** This function should not return the same restaurant twice in a row."
   ]
  },
  {
   "cell_type": "code",
   "execution_count": 35,
   "metadata": {},
   "outputs": [],
   "source": [
    "FAVORITE_RESTUARANTS = [\n",
    "    ['Chipotle', 7.6],\n",
    "    ['Subway', 6.2],\n",
    "    ['Boston Market', 6.4],\n",
    "    ['Pizza Hut', 7.1],\n",
    "    ['Don Ramon Cuban Eatery', 8.3],\n",
    "    ['Paris Bistro', 7.7],\n",
    "    ['AA Sushi', 8.5],\n",
    "    ['Thai Palace', 8.3]\n",
    "]"
   ]
  },
  {
   "cell_type": "code",
   "execution_count": null,
   "metadata": {},
   "outputs": [],
   "source": []
  },
  {
   "cell_type": "code",
   "execution_count": null,
   "metadata": {},
   "outputs": [],
   "source": []
  },
  {
   "cell_type": "markdown",
   "metadata": {},
   "source": [
    "## [10] Abstraction and Modularity"
   ]
  },
  {
   "cell_type": "code",
   "execution_count": 3,
   "metadata": {},
   "outputs": [],
   "source": [
    "def get_odds():\n",
    "    numbers = range(1, 10000)\n",
    "    results = []\n",
    "    for num in numbers:\n",
    "        if num % 2 == 1:\n",
    "            results.append(num)\n",
    "    return results"
   ]
  },
  {
   "cell_type": "markdown",
   "metadata": {},
   "source": [
    "## Exercise\n",
    "Modify the above function to take a `start`, `end` and `divisor` and it will return all of the numbers between `start` and `end` that are divisibly by `divisor`. \n",
    "\n",
    "For example, if the function is called `get_divisible_by`, it would work like the following:\n",
    "\n",
    "```python\n",
    "get_divisible_by(1, 5000, 5)\n",
    ">>> [5, 10, 15, 20, 25, ..., 5000]\n",
    "```\n",
    "\n",
    "**NOTE**: We may come back to this function once we understand "
   ]
  },
  {
   "cell_type": "code",
   "execution_count": null,
   "metadata": {},
   "outputs": [],
   "source": []
  },
  {
   "cell_type": "markdown",
   "metadata": {},
   "source": [
    "# [20] List comprehensions\n",
    "What is the point of comprehensions?"
   ]
  },
  {
   "cell_type": "code",
   "execution_count": 4,
   "metadata": {},
   "outputs": [],
   "source": [
    "desired_foods = ['banana', 'apple', 'coffee', 'pasta', 'mushrooms']\n",
    "blacklisted_foods = ['coffee']"
   ]
  },
  {
   "cell_type": "markdown",
   "metadata": {},
   "source": [
    "## Method 1: For Loop"
   ]
  },
  {
   "cell_type": "code",
   "execution_count": 5,
   "metadata": {},
   "outputs": [
    {
     "data": {
      "text/plain": [
       "['banana', 'apple', 'pasta', 'mushrooms']"
      ]
     },
     "execution_count": 5,
     "metadata": {},
     "output_type": "execute_result"
    }
   ],
   "source": [
    "allowed_foods = []\n",
    "for food in desired_foods:\n",
    "    if food not in blacklisted_foods:\n",
    "        allowed_foods.append(food)\n",
    "\n",
    "allowed_foods"
   ]
  },
  {
   "cell_type": "markdown",
   "metadata": {},
   "source": [
    "## Method 2: List Comprehension\n",
    "Here let's talk about terseness and abstraction."
   ]
  },
  {
   "cell_type": "code",
   "execution_count": 6,
   "metadata": {},
   "outputs": [
    {
     "data": {
      "text/plain": [
       "['banana', 'apple', 'pasta', 'mushrooms']"
      ]
     },
     "execution_count": 6,
     "metadata": {},
     "output_type": "execute_result"
    }
   ],
   "source": [
    "allowed_foods = [food for food in desired_foods if food not in blacklisted_foods]\n",
    "allowed_foods"
   ]
  },
  {
   "cell_type": "markdown",
   "metadata": {},
   "source": [
    "## Exercise 2.1\n",
    "Rewrite `get_divisible_by` using a list comprehension."
   ]
  },
  {
   "cell_type": "code",
   "execution_count": null,
   "metadata": {},
   "outputs": [],
   "source": []
  },
  {
   "cell_type": "markdown",
   "metadata": {},
   "source": [
    "## Exercise 2.2 (List Comprehension + Abstraction/Generalization)\n",
    "Create a new function that, instead of returning the numbers between `start` and `end` that are divisible by `divisor`, it returns the square of those numbers. For example,\n",
    "\n",
    "```python\n",
    "get_square_divisible_by(1, 50, 5)\n",
    ">>> [25, 100, 225, ..., 2500]\n",
    "```\n",
    "\n",
    "Note: 25 is 5^2, 100 is 10^2, ..."
   ]
  },
  {
   "cell_type": "code",
   "execution_count": null,
   "metadata": {},
   "outputs": [],
   "source": []
  }
 ],
 "metadata": {
  "kernelspec": {
   "display_name": "Python 3",
   "language": "python",
   "name": "python3"
  },
  "language_info": {
   "codemirror_mode": {
    "name": "ipython",
    "version": 3
   },
   "file_extension": ".py",
   "mimetype": "text/x-python",
   "name": "python",
   "nbconvert_exporter": "python",
   "pygments_lexer": "ipython3",
   "version": "3.8.5"
  }
 },
 "nbformat": 4,
 "nbformat_minor": 2
}
